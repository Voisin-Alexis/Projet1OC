{
 "cells": [
  {
   "cell_type": "markdown",
   "metadata": {},
   "source": [
    "# Analyser des données de systèmes éducatifs"
   ]
  },
  {
   "cell_type": "markdown",
   "metadata": {},
   "source": [
    "## Chargement des librairies et des datasets"
   ]
  },
  {
   "cell_type": "code",
   "execution_count": 1,
   "metadata": {},
   "outputs": [
    {
     "name": "stdout",
     "output_type": "stream",
     "text": [
      "Requirement already satisfied: pandas in c:\\users\\alexis\\anaconda3\\lib\\site-packages (1.2.4)\n",
      "Requirement already satisfied: pytz>=2017.3 in c:\\users\\alexis\\anaconda3\\lib\\site-packages (from pandas) (2020.1)\n",
      "Requirement already satisfied: python-dateutil>=2.7.3 in c:\\users\\alexis\\anaconda3\\lib\\site-packages (from pandas) (2.8.1)\n",
      "Requirement already satisfied: numpy>=1.16.5 in c:\\users\\alexis\\anaconda3\\lib\\site-packages (from pandas) (1.19.2)\n",
      "Requirement already satisfied: six>=1.5 in c:\\users\\alexis\\anaconda3\\lib\\site-packages (from python-dateutil>=2.7.3->pandas) (1.15.0)\n",
      "Version de pandas:  1.2.4\n"
     ]
    }
   ],
   "source": [
    "import matplotlib.pyplot as plt\n",
    "import seaborn as sns\n",
    "import numpy as np\n",
    "import pip\n",
    "%matplotlib inline\n",
    "\n",
    "!pip install --user pandas\n",
    "import pandas as pd\n",
    "print('Version de pandas: ', pd.__version__)\n",
    "\n",
    "# Chargement\n",
    "\n",
    "pd.set_option('display.max_columns', 1800)\n",
    "pd.set_option('display.max_rows', 2000)\n",
    "pd.set_option('display.max_colwidth', None)\n",
    "\n",
    "EdStatsCountry = pd.read_csv(\"EdStatsCountry.csv\")\n",
    "EdStatsCountrySeries = pd.read_csv(\"EdStatsCountry-Series.csv\")\n",
    "EdStatsData = pd.read_csv(\"EdStatsData.csv\")\n",
    "EdStatsFootNote = pd.read_csv(\"EdStatsFootNote.csv\")\n",
    "EdStatsSeries = pd.read_csv(\"EdStatsSeries.csv\")"
   ]
  },
  {
   "cell_type": "markdown",
   "metadata": {},
   "source": [
    "Nous allons commencer par regarder la forme est les différentes variables de chaque dataset, afin de voir les informations qui\n",
    "permettront de former notre Dataset."
   ]
  },
  {
   "cell_type": "markdown",
   "metadata": {},
   "source": [
    "Le dataset entier est constitué de 5 datasets distincts:\n",
    "\n",
    "    - EdStatsCountry\n",
    "    - EdStatsCountrySeries\n",
    "    - EdStatsData\n",
    "    - EdStatsFootNote\n",
    "    - EdStatsSeries"
   ]
  },
  {
   "cell_type": "markdown",
   "metadata": {},
   "source": [
    "## EdStatsCountry"
   ]
  },
  {
   "cell_type": "code",
   "execution_count": 2,
   "metadata": {},
   "outputs": [
    {
     "data": {
      "text/html": [
       "<div>\n",
       "<style scoped>\n",
       "    .dataframe tbody tr th:only-of-type {\n",
       "        vertical-align: middle;\n",
       "    }\n",
       "\n",
       "    .dataframe tbody tr th {\n",
       "        vertical-align: top;\n",
       "    }\n",
       "\n",
       "    .dataframe thead th {\n",
       "        text-align: right;\n",
       "    }\n",
       "</style>\n",
       "<table border=\"1\" class=\"dataframe\">\n",
       "  <thead>\n",
       "    <tr style=\"text-align: right;\">\n",
       "      <th></th>\n",
       "      <th>Country Code</th>\n",
       "      <th>Short Name</th>\n",
       "      <th>Table Name</th>\n",
       "      <th>Long Name</th>\n",
       "      <th>2-alpha code</th>\n",
       "      <th>Currency Unit</th>\n",
       "      <th>Special Notes</th>\n",
       "      <th>Region</th>\n",
       "      <th>Income Group</th>\n",
       "      <th>WB-2 code</th>\n",
       "      <th>National accounts base year</th>\n",
       "      <th>National accounts reference year</th>\n",
       "      <th>SNA price valuation</th>\n",
       "      <th>Lending category</th>\n",
       "      <th>Other groups</th>\n",
       "      <th>System of National Accounts</th>\n",
       "      <th>Alternative conversion factor</th>\n",
       "      <th>PPP survey year</th>\n",
       "      <th>Balance of Payments Manual in use</th>\n",
       "      <th>External debt Reporting status</th>\n",
       "      <th>System of trade</th>\n",
       "      <th>Government Accounting concept</th>\n",
       "      <th>IMF data dissemination standard</th>\n",
       "      <th>Latest population census</th>\n",
       "      <th>Latest household survey</th>\n",
       "      <th>Source of most recent Income and expenditure data</th>\n",
       "      <th>Vital registration complete</th>\n",
       "      <th>Latest agricultural census</th>\n",
       "      <th>Latest industrial data</th>\n",
       "      <th>Latest trade data</th>\n",
       "      <th>Latest water withdrawal data</th>\n",
       "      <th>Unnamed: 31</th>\n",
       "    </tr>\n",
       "  </thead>\n",
       "  <tbody>\n",
       "    <tr>\n",
       "      <th>0</th>\n",
       "      <td>ABW</td>\n",
       "      <td>Aruba</td>\n",
       "      <td>Aruba</td>\n",
       "      <td>Aruba</td>\n",
       "      <td>AW</td>\n",
       "      <td>Aruban florin</td>\n",
       "      <td>SNA data for 2000-2011 are updated from official government statistics; 1994-1999 from UN databases. Base year has changed from 1995 to 2000.</td>\n",
       "      <td>Latin America &amp; Caribbean</td>\n",
       "      <td>High income: nonOECD</td>\n",
       "      <td>AW</td>\n",
       "      <td>2000</td>\n",
       "      <td>NaN</td>\n",
       "      <td>Value added at basic prices (VAB)</td>\n",
       "      <td>NaN</td>\n",
       "      <td>NaN</td>\n",
       "      <td>Country uses the 1993 System of National Accounts methodology.</td>\n",
       "      <td>NaN</td>\n",
       "      <td>NaN</td>\n",
       "      <td>IMF Balance of Payments Manual, 6th edition.</td>\n",
       "      <td>NaN</td>\n",
       "      <td>Special trade system</td>\n",
       "      <td>NaN</td>\n",
       "      <td>NaN</td>\n",
       "      <td>2010</td>\n",
       "      <td>NaN</td>\n",
       "      <td>NaN</td>\n",
       "      <td>Yes</td>\n",
       "      <td>NaN</td>\n",
       "      <td>NaN</td>\n",
       "      <td>2012.0</td>\n",
       "      <td>NaN</td>\n",
       "      <td>NaN</td>\n",
       "    </tr>\n",
       "    <tr>\n",
       "      <th>1</th>\n",
       "      <td>AFG</td>\n",
       "      <td>Afghanistan</td>\n",
       "      <td>Afghanistan</td>\n",
       "      <td>Islamic State of Afghanistan</td>\n",
       "      <td>AF</td>\n",
       "      <td>Afghan afghani</td>\n",
       "      <td>Fiscal year end: March 20; reporting period for national accounts data: FY (from 2013 are CY). National accounts data are sourced from the IMF and differ from the Central Statistics Organization numbers due to exclusion of the opium economy.</td>\n",
       "      <td>South Asia</td>\n",
       "      <td>Low income</td>\n",
       "      <td>AF</td>\n",
       "      <td>2002/03</td>\n",
       "      <td>NaN</td>\n",
       "      <td>Value added at basic prices (VAB)</td>\n",
       "      <td>IDA</td>\n",
       "      <td>HIPC</td>\n",
       "      <td>Country uses the 1993 System of National Accounts methodology.</td>\n",
       "      <td>NaN</td>\n",
       "      <td>NaN</td>\n",
       "      <td>NaN</td>\n",
       "      <td>Actual</td>\n",
       "      <td>General trade system</td>\n",
       "      <td>Consolidated central government</td>\n",
       "      <td>General Data Dissemination System (GDDS)</td>\n",
       "      <td>1979</td>\n",
       "      <td>Multiple Indicator Cluster Survey (MICS), 2010/11</td>\n",
       "      <td>Integrated household survey (IHS), 2008</td>\n",
       "      <td>NaN</td>\n",
       "      <td>2013/14</td>\n",
       "      <td>NaN</td>\n",
       "      <td>2012.0</td>\n",
       "      <td>2000</td>\n",
       "      <td>NaN</td>\n",
       "    </tr>\n",
       "  </tbody>\n",
       "</table>\n",
       "</div>"
      ],
      "text/plain": [
       "  Country Code   Short Name   Table Name                     Long Name  \\\n",
       "0          ABW        Aruba        Aruba                         Aruba   \n",
       "1          AFG  Afghanistan  Afghanistan  Islamic State of Afghanistan   \n",
       "\n",
       "  2-alpha code   Currency Unit  \\\n",
       "0           AW   Aruban florin   \n",
       "1           AF  Afghan afghani   \n",
       "\n",
       "                                                                                                                                                                                                                                       Special Notes  \\\n",
       "0                                                                                                      SNA data for 2000-2011 are updated from official government statistics; 1994-1999 from UN databases. Base year has changed from 1995 to 2000.   \n",
       "1  Fiscal year end: March 20; reporting period for national accounts data: FY (from 2013 are CY). National accounts data are sourced from the IMF and differ from the Central Statistics Organization numbers due to exclusion of the opium economy.   \n",
       "\n",
       "                      Region          Income Group WB-2 code  \\\n",
       "0  Latin America & Caribbean  High income: nonOECD        AW   \n",
       "1                 South Asia            Low income        AF   \n",
       "\n",
       "  National accounts base year  National accounts reference year  \\\n",
       "0                        2000                               NaN   \n",
       "1                     2002/03                               NaN   \n",
       "\n",
       "                 SNA price valuation Lending category Other groups  \\\n",
       "0  Value added at basic prices (VAB)              NaN          NaN   \n",
       "1  Value added at basic prices (VAB)              IDA         HIPC   \n",
       "\n",
       "                                      System of National Accounts  \\\n",
       "0  Country uses the 1993 System of National Accounts methodology.   \n",
       "1  Country uses the 1993 System of National Accounts methodology.   \n",
       "\n",
       "  Alternative conversion factor PPP survey year  \\\n",
       "0                           NaN             NaN   \n",
       "1                           NaN             NaN   \n",
       "\n",
       "              Balance of Payments Manual in use  \\\n",
       "0  IMF Balance of Payments Manual, 6th edition.   \n",
       "1                                           NaN   \n",
       "\n",
       "  External debt Reporting status       System of trade  \\\n",
       "0                            NaN  Special trade system   \n",
       "1                         Actual  General trade system   \n",
       "\n",
       "     Government Accounting concept           IMF data dissemination standard  \\\n",
       "0                              NaN                                       NaN   \n",
       "1  Consolidated central government  General Data Dissemination System (GDDS)   \n",
       "\n",
       "  Latest population census                            Latest household survey  \\\n",
       "0                     2010                                                NaN   \n",
       "1                     1979  Multiple Indicator Cluster Survey (MICS), 2010/11   \n",
       "\n",
       "  Source of most recent Income and expenditure data  \\\n",
       "0                                               NaN   \n",
       "1           Integrated household survey (IHS), 2008   \n",
       "\n",
       "  Vital registration complete Latest agricultural census  \\\n",
       "0                         Yes                        NaN   \n",
       "1                         NaN                    2013/14   \n",
       "\n",
       "   Latest industrial data  Latest trade data Latest water withdrawal data  \\\n",
       "0                     NaN             2012.0                          NaN   \n",
       "1                     NaN             2012.0                         2000   \n",
       "\n",
       "   Unnamed: 31  \n",
       "0          NaN  \n",
       "1          NaN  "
      ]
     },
     "execution_count": 2,
     "metadata": {},
     "output_type": "execute_result"
    }
   ],
   "source": [
    "EdStatsCountry.head(2)"
   ]
  },
  {
   "cell_type": "markdown",
   "metadata": {},
   "source": [
    "Regardons les différentes informations pour ce dataset, comme le nombre de lignes, de colonnes, le taux de NaN pour chaque colonne:"
   ]
  },
  {
   "cell_type": "code",
   "execution_count": 3,
   "metadata": {},
   "outputs": [
    {
     "name": "stdout",
     "output_type": "stream",
     "text": [
      "Le dataset a 241 lignes et 32 colonnes.\n",
      "La colonne ['Country Code'] du dataset EdStatsCountry a 0.0 % de données manquantes.\n",
      "La colonne ['Short Name'] du dataset EdStatsCountry a 0.0 % de données manquantes.\n",
      "La colonne ['Table Name'] du dataset EdStatsCountry a 0.0 % de données manquantes.\n",
      "La colonne ['Long Name'] du dataset EdStatsCountry a 0.0 % de données manquantes.\n",
      "La colonne ['2-alpha code'] du dataset EdStatsCountry a 1.2448132780082988 % de données manquantes.\n",
      "La colonne ['Currency Unit'] du dataset EdStatsCountry a 10.78838174273859 % de données manquantes.\n",
      "La colonne ['Special Notes'] du dataset EdStatsCountry a 39.83402489626556 % de données manquantes.\n",
      "La colonne ['Region'] du dataset EdStatsCountry a 11.20331950207469 % de données manquantes.\n",
      "La colonne ['Income Group'] du dataset EdStatsCountry a 11.20331950207469 % de données manquantes.\n",
      "La colonne ['WB-2 code'] du dataset EdStatsCountry a 0.4149377593360996 % de données manquantes.\n",
      "La colonne ['National accounts base year'] du dataset EdStatsCountry a 14.937759336099585 % de données manquantes.\n",
      "La colonne ['National accounts reference year'] du dataset EdStatsCountry a 86.72199170124482 % de données manquantes.\n",
      "La colonne ['SNA price valuation'] du dataset EdStatsCountry a 18.25726141078838 % de données manquantes.\n",
      "La colonne ['Lending category'] du dataset EdStatsCountry a 40.24896265560166 % de données manquantes.\n",
      "La colonne ['Other groups'] du dataset EdStatsCountry a 75.93360995850622 % de données manquantes.\n",
      "La colonne ['System of National Accounts'] du dataset EdStatsCountry a 10.78838174273859 % de données manquantes.\n",
      "La colonne ['Alternative conversion factor'] du dataset EdStatsCountry a 80.49792531120332 % de données manquantes.\n",
      "La colonne ['PPP survey year'] du dataset EdStatsCountry a 39.83402489626556 % de données manquantes.\n",
      "La colonne ['Balance of Payments Manual in use'] du dataset EdStatsCountry a 24.896265560165975 % de données manquantes.\n",
      "La colonne ['External debt Reporting status'] du dataset EdStatsCountry a 48.54771784232365 % de données manquantes.\n",
      "La colonne ['System of trade'] du dataset EdStatsCountry a 17.012448132780083 % de données manquantes.\n",
      "La colonne ['Government Accounting concept'] du dataset EdStatsCountry a 33.19502074688796 % de données manquantes.\n",
      "La colonne ['IMF data dissemination standard'] du dataset EdStatsCountry a 24.896265560165975 % de données manquantes.\n",
      "La colonne ['Latest population census'] du dataset EdStatsCountry a 11.618257261410788 % de données manquantes.\n",
      "La colonne ['Latest household survey'] du dataset EdStatsCountry a 41.49377593360996 % de données manquantes.\n",
      "La colonne ['Source of most recent Income and expenditure data'] du dataset EdStatsCountry a 33.60995850622407 % de données manquantes.\n",
      "La colonne ['Vital registration complete'] du dataset EdStatsCountry a 53.941908713692946 % de données manquantes.\n",
      "La colonne ['Latest agricultural census'] du dataset EdStatsCountry a 41.078838174273855 % de données manquantes.\n",
      "La colonne ['Latest industrial data'] du dataset EdStatsCountry a 55.601659751037346 % de données manquantes.\n",
      "La colonne ['Latest trade data'] du dataset EdStatsCountry a 23.236514522821576 % de données manquantes.\n",
      "La colonne ['Latest water withdrawal data'] du dataset EdStatsCountry a 25.72614107883817 % de données manquantes.\n",
      "La colonne ['Unnamed: 31'] du dataset EdStatsCountry a 100.0 % de données manquantes.\n"
     ]
    }
   ],
   "source": [
    "formeCountry = EdStatsCountry.shape\n",
    "print('Le dataset a', formeCountry[0], 'lignes et', formeCountry[1], 'colonnes.')\n",
    "for i in range(formeCountry[1]):\n",
    "    count_nan = 0\n",
    "    for j in range(formeCountry[0]):\n",
    "        if EdStatsCountry.isna().values[j][i]:\n",
    "            count_nan += 1         \n",
    "            #print(i,j)\n",
    "    print('La colonne', [EdStatsCountry.columns[i]], 'du dataset EdStatsCountry a', (count_nan/formeCountry[0])*100, '% de données manquantes.')"
   ]
  },
  {
   "cell_type": "markdown",
   "metadata": {},
   "source": [
    "Dans un premier temps nous pouvons voir quelques clés potentielles, bien sûr il faudra voir les autres datasets.\n",
    "Ici Country Code, les colonnes Name, Currency Unit, Region et Income Group peuvent sembler intéressant, on les garde dans un coin de l'esprit."
   ]
  },
  {
   "cell_type": "code",
   "execution_count": 4,
   "metadata": {},
   "outputs": [
    {
     "name": "stdout",
     "output_type": "stream",
     "text": [
      "['Latin America & Caribbean' 'South Asia' 'Sub-Saharan Africa'\n",
      " 'Europe & Central Asia' 'Middle East & North Africa'\n",
      " 'East Asia & Pacific' 'North America']\n"
     ]
    }
   ],
   "source": [
    "listeRegion = EdStatsCountry['Region'].dropna().unique()\n",
    "print(listeRegion)"
   ]
  },
  {
   "cell_type": "markdown",
   "metadata": {},
   "source": [
    "Ce dataset nous donne des informations globales sur l’économie de chaque pays du monde. Quelques valeurs manquantes pour les variables intéressantes, aucun doublon"
   ]
  },
  {
   "cell_type": "markdown",
   "metadata": {},
   "source": [
    "## EdStatsCountrySeries"
   ]
  },
  {
   "cell_type": "code",
   "execution_count": 5,
   "metadata": {},
   "outputs": [
    {
     "data": {
      "text/html": [
       "<div>\n",
       "<style scoped>\n",
       "    .dataframe tbody tr th:only-of-type {\n",
       "        vertical-align: middle;\n",
       "    }\n",
       "\n",
       "    .dataframe tbody tr th {\n",
       "        vertical-align: top;\n",
       "    }\n",
       "\n",
       "    .dataframe thead th {\n",
       "        text-align: right;\n",
       "    }\n",
       "</style>\n",
       "<table border=\"1\" class=\"dataframe\">\n",
       "  <thead>\n",
       "    <tr style=\"text-align: right;\">\n",
       "      <th></th>\n",
       "      <th>CountryCode</th>\n",
       "      <th>SeriesCode</th>\n",
       "      <th>DESCRIPTION</th>\n",
       "      <th>Unnamed: 3</th>\n",
       "    </tr>\n",
       "  </thead>\n",
       "  <tbody>\n",
       "    <tr>\n",
       "      <th>0</th>\n",
       "      <td>ABW</td>\n",
       "      <td>SP.POP.TOTL</td>\n",
       "      <td>Data sources : United Nations World Population Prospects</td>\n",
       "      <td>NaN</td>\n",
       "    </tr>\n",
       "    <tr>\n",
       "      <th>1</th>\n",
       "      <td>ABW</td>\n",
       "      <td>SP.POP.GROW</td>\n",
       "      <td>Data sources: United Nations World Population Prospects</td>\n",
       "      <td>NaN</td>\n",
       "    </tr>\n",
       "  </tbody>\n",
       "</table>\n",
       "</div>"
      ],
      "text/plain": [
       "  CountryCode   SeriesCode  \\\n",
       "0         ABW  SP.POP.TOTL   \n",
       "1         ABW  SP.POP.GROW   \n",
       "\n",
       "                                                DESCRIPTION  Unnamed: 3  \n",
       "0  Data sources : United Nations World Population Prospects         NaN  \n",
       "1   Data sources: United Nations World Population Prospects         NaN  "
      ]
     },
     "execution_count": 5,
     "metadata": {},
     "output_type": "execute_result"
    }
   ],
   "source": [
    "EdStatsCountrySeries.head(2)"
   ]
  },
  {
   "cell_type": "markdown",
   "metadata": {},
   "source": [
    "Nous voyons que nous pourrons utiliser CountryCode afin de lier les 2 datasets précédent. Pour ce dataset, nous n'avons pas de variables réellement intéressantes pour notre problématique. Mais je répète c'est une analyse très rapide des dataset pour le moment, nous nous y plongerons plus en détail par la suite\n",
    "Ce dataset nous donne des informations sur les données contenues dans EdStatsCountry.csv"
   ]
  },
  {
   "cell_type": "code",
   "execution_count": 6,
   "metadata": {},
   "outputs": [
    {
     "name": "stdout",
     "output_type": "stream",
     "text": [
      "Le dataset a 613 lignes et 4 colonnes.\n"
     ]
    }
   ],
   "source": [
    "formeCountrySeries = EdStatsCountrySeries.shape\n",
    "print('Le dataset a', formeCountrySeries[0], 'lignes et', formeCountrySeries[1], 'colonnes.')"
   ]
  },
  {
   "cell_type": "markdown",
   "metadata": {},
   "source": [
    "Pas de données manquantes, aucun doublon (sauf pour la dernière varible qui est uniquement rempli de valeur NaN)."
   ]
  },
  {
   "cell_type": "markdown",
   "metadata": {},
   "source": [
    "## EdStatsData"
   ]
  },
  {
   "cell_type": "code",
   "execution_count": 7,
   "metadata": {},
   "outputs": [
    {
     "data": {
      "text/html": [
       "<div>\n",
       "<style scoped>\n",
       "    .dataframe tbody tr th:only-of-type {\n",
       "        vertical-align: middle;\n",
       "    }\n",
       "\n",
       "    .dataframe tbody tr th {\n",
       "        vertical-align: top;\n",
       "    }\n",
       "\n",
       "    .dataframe thead th {\n",
       "        text-align: right;\n",
       "    }\n",
       "</style>\n",
       "<table border=\"1\" class=\"dataframe\">\n",
       "  <thead>\n",
       "    <tr style=\"text-align: right;\">\n",
       "      <th></th>\n",
       "      <th>Country Name</th>\n",
       "      <th>Country Code</th>\n",
       "      <th>Indicator Name</th>\n",
       "      <th>Indicator Code</th>\n",
       "      <th>1970</th>\n",
       "      <th>1971</th>\n",
       "      <th>1972</th>\n",
       "      <th>1973</th>\n",
       "      <th>1974</th>\n",
       "      <th>1975</th>\n",
       "      <th>1976</th>\n",
       "      <th>1977</th>\n",
       "      <th>1978</th>\n",
       "      <th>1979</th>\n",
       "      <th>1980</th>\n",
       "      <th>1981</th>\n",
       "      <th>1982</th>\n",
       "      <th>1983</th>\n",
       "      <th>1984</th>\n",
       "      <th>1985</th>\n",
       "      <th>1986</th>\n",
       "      <th>1987</th>\n",
       "      <th>1988</th>\n",
       "      <th>1989</th>\n",
       "      <th>1990</th>\n",
       "      <th>1991</th>\n",
       "      <th>1992</th>\n",
       "      <th>1993</th>\n",
       "      <th>1994</th>\n",
       "      <th>1995</th>\n",
       "      <th>1996</th>\n",
       "      <th>1997</th>\n",
       "      <th>1998</th>\n",
       "      <th>1999</th>\n",
       "      <th>2000</th>\n",
       "      <th>2001</th>\n",
       "      <th>2002</th>\n",
       "      <th>2003</th>\n",
       "      <th>2004</th>\n",
       "      <th>2005</th>\n",
       "      <th>2006</th>\n",
       "      <th>2007</th>\n",
       "      <th>2008</th>\n",
       "      <th>2009</th>\n",
       "      <th>2010</th>\n",
       "      <th>2011</th>\n",
       "      <th>2012</th>\n",
       "      <th>2013</th>\n",
       "      <th>2014</th>\n",
       "      <th>2015</th>\n",
       "      <th>2016</th>\n",
       "      <th>2017</th>\n",
       "      <th>2020</th>\n",
       "      <th>2025</th>\n",
       "      <th>2030</th>\n",
       "      <th>2035</th>\n",
       "      <th>2040</th>\n",
       "      <th>2045</th>\n",
       "      <th>2050</th>\n",
       "      <th>2055</th>\n",
       "      <th>2060</th>\n",
       "      <th>2065</th>\n",
       "      <th>2070</th>\n",
       "      <th>2075</th>\n",
       "      <th>2080</th>\n",
       "      <th>2085</th>\n",
       "      <th>2090</th>\n",
       "      <th>2095</th>\n",
       "      <th>2100</th>\n",
       "      <th>Unnamed: 69</th>\n",
       "    </tr>\n",
       "  </thead>\n",
       "  <tbody>\n",
       "    <tr>\n",
       "      <th>0</th>\n",
       "      <td>Arab World</td>\n",
       "      <td>ARB</td>\n",
       "      <td>Adjusted net enrolment rate, lower secondary, both sexes (%)</td>\n",
       "      <td>UIS.NERA.2</td>\n",
       "      <td>NaN</td>\n",
       "      <td>NaN</td>\n",
       "      <td>NaN</td>\n",
       "      <td>NaN</td>\n",
       "      <td>NaN</td>\n",
       "      <td>NaN</td>\n",
       "      <td>NaN</td>\n",
       "      <td>NaN</td>\n",
       "      <td>NaN</td>\n",
       "      <td>NaN</td>\n",
       "      <td>NaN</td>\n",
       "      <td>NaN</td>\n",
       "      <td>NaN</td>\n",
       "      <td>NaN</td>\n",
       "      <td>NaN</td>\n",
       "      <td>NaN</td>\n",
       "      <td>NaN</td>\n",
       "      <td>NaN</td>\n",
       "      <td>NaN</td>\n",
       "      <td>NaN</td>\n",
       "      <td>NaN</td>\n",
       "      <td>NaN</td>\n",
       "      <td>NaN</td>\n",
       "      <td>NaN</td>\n",
       "      <td>NaN</td>\n",
       "      <td>NaN</td>\n",
       "      <td>NaN</td>\n",
       "      <td>NaN</td>\n",
       "      <td>NaN</td>\n",
       "      <td>NaN</td>\n",
       "      <td>NaN</td>\n",
       "      <td>NaN</td>\n",
       "      <td>NaN</td>\n",
       "      <td>NaN</td>\n",
       "      <td>NaN</td>\n",
       "      <td>NaN</td>\n",
       "      <td>NaN</td>\n",
       "      <td>NaN</td>\n",
       "      <td>NaN</td>\n",
       "      <td>NaN</td>\n",
       "      <td>NaN</td>\n",
       "      <td>NaN</td>\n",
       "      <td>NaN</td>\n",
       "      <td>NaN</td>\n",
       "      <td>NaN</td>\n",
       "      <td>NaN</td>\n",
       "      <td>NaN</td>\n",
       "      <td>NaN</td>\n",
       "      <td>NaN</td>\n",
       "      <td>NaN</td>\n",
       "      <td>NaN</td>\n",
       "      <td>NaN</td>\n",
       "      <td>NaN</td>\n",
       "      <td>NaN</td>\n",
       "      <td>NaN</td>\n",
       "      <td>NaN</td>\n",
       "      <td>NaN</td>\n",
       "      <td>NaN</td>\n",
       "      <td>NaN</td>\n",
       "      <td>NaN</td>\n",
       "      <td>NaN</td>\n",
       "      <td>NaN</td>\n",
       "      <td>NaN</td>\n",
       "      <td>NaN</td>\n",
       "      <td>NaN</td>\n",
       "      <td>NaN</td>\n",
       "    </tr>\n",
       "    <tr>\n",
       "      <th>1</th>\n",
       "      <td>Arab World</td>\n",
       "      <td>ARB</td>\n",
       "      <td>Adjusted net enrolment rate, lower secondary, female (%)</td>\n",
       "      <td>UIS.NERA.2.F</td>\n",
       "      <td>NaN</td>\n",
       "      <td>NaN</td>\n",
       "      <td>NaN</td>\n",
       "      <td>NaN</td>\n",
       "      <td>NaN</td>\n",
       "      <td>NaN</td>\n",
       "      <td>NaN</td>\n",
       "      <td>NaN</td>\n",
       "      <td>NaN</td>\n",
       "      <td>NaN</td>\n",
       "      <td>NaN</td>\n",
       "      <td>NaN</td>\n",
       "      <td>NaN</td>\n",
       "      <td>NaN</td>\n",
       "      <td>NaN</td>\n",
       "      <td>NaN</td>\n",
       "      <td>NaN</td>\n",
       "      <td>NaN</td>\n",
       "      <td>NaN</td>\n",
       "      <td>NaN</td>\n",
       "      <td>NaN</td>\n",
       "      <td>NaN</td>\n",
       "      <td>NaN</td>\n",
       "      <td>NaN</td>\n",
       "      <td>NaN</td>\n",
       "      <td>NaN</td>\n",
       "      <td>NaN</td>\n",
       "      <td>NaN</td>\n",
       "      <td>NaN</td>\n",
       "      <td>NaN</td>\n",
       "      <td>NaN</td>\n",
       "      <td>NaN</td>\n",
       "      <td>NaN</td>\n",
       "      <td>NaN</td>\n",
       "      <td>NaN</td>\n",
       "      <td>NaN</td>\n",
       "      <td>NaN</td>\n",
       "      <td>NaN</td>\n",
       "      <td>NaN</td>\n",
       "      <td>NaN</td>\n",
       "      <td>NaN</td>\n",
       "      <td>NaN</td>\n",
       "      <td>NaN</td>\n",
       "      <td>NaN</td>\n",
       "      <td>NaN</td>\n",
       "      <td>NaN</td>\n",
       "      <td>NaN</td>\n",
       "      <td>NaN</td>\n",
       "      <td>NaN</td>\n",
       "      <td>NaN</td>\n",
       "      <td>NaN</td>\n",
       "      <td>NaN</td>\n",
       "      <td>NaN</td>\n",
       "      <td>NaN</td>\n",
       "      <td>NaN</td>\n",
       "      <td>NaN</td>\n",
       "      <td>NaN</td>\n",
       "      <td>NaN</td>\n",
       "      <td>NaN</td>\n",
       "      <td>NaN</td>\n",
       "      <td>NaN</td>\n",
       "      <td>NaN</td>\n",
       "      <td>NaN</td>\n",
       "      <td>NaN</td>\n",
       "      <td>NaN</td>\n",
       "      <td>NaN</td>\n",
       "    </tr>\n",
       "  </tbody>\n",
       "</table>\n",
       "</div>"
      ],
      "text/plain": [
       "  Country Name Country Code  \\\n",
       "0   Arab World          ARB   \n",
       "1   Arab World          ARB   \n",
       "\n",
       "                                                 Indicator Name  \\\n",
       "0  Adjusted net enrolment rate, lower secondary, both sexes (%)   \n",
       "1      Adjusted net enrolment rate, lower secondary, female (%)   \n",
       "\n",
       "  Indicator Code  1970  1971  1972  1973  1974  1975  1976  1977  1978  1979  \\\n",
       "0     UIS.NERA.2   NaN   NaN   NaN   NaN   NaN   NaN   NaN   NaN   NaN   NaN   \n",
       "1   UIS.NERA.2.F   NaN   NaN   NaN   NaN   NaN   NaN   NaN   NaN   NaN   NaN   \n",
       "\n",
       "   1980  1981  1982  1983  1984  1985  1986  1987  1988  1989  1990  1991  \\\n",
       "0   NaN   NaN   NaN   NaN   NaN   NaN   NaN   NaN   NaN   NaN   NaN   NaN   \n",
       "1   NaN   NaN   NaN   NaN   NaN   NaN   NaN   NaN   NaN   NaN   NaN   NaN   \n",
       "\n",
       "   1992  1993  1994  1995  1996  1997  1998  1999  2000  2001  2002  2003  \\\n",
       "0   NaN   NaN   NaN   NaN   NaN   NaN   NaN   NaN   NaN   NaN   NaN   NaN   \n",
       "1   NaN   NaN   NaN   NaN   NaN   NaN   NaN   NaN   NaN   NaN   NaN   NaN   \n",
       "\n",
       "   2004  2005  2006  2007  2008  2009  2010  2011  2012  2013  2014  2015  \\\n",
       "0   NaN   NaN   NaN   NaN   NaN   NaN   NaN   NaN   NaN   NaN   NaN   NaN   \n",
       "1   NaN   NaN   NaN   NaN   NaN   NaN   NaN   NaN   NaN   NaN   NaN   NaN   \n",
       "\n",
       "   2016  2017  2020  2025  2030  2035  2040  2045  2050  2055  2060  2065  \\\n",
       "0   NaN   NaN   NaN   NaN   NaN   NaN   NaN   NaN   NaN   NaN   NaN   NaN   \n",
       "1   NaN   NaN   NaN   NaN   NaN   NaN   NaN   NaN   NaN   NaN   NaN   NaN   \n",
       "\n",
       "   2070  2075  2080  2085  2090  2095  2100  Unnamed: 69  \n",
       "0   NaN   NaN   NaN   NaN   NaN   NaN   NaN          NaN  \n",
       "1   NaN   NaN   NaN   NaN   NaN   NaN   NaN          NaN  "
      ]
     },
     "execution_count": 7,
     "metadata": {},
     "output_type": "execute_result"
    }
   ],
   "source": [
    "EdStatsData.head(2)"
   ]
  },
  {
   "cell_type": "markdown",
   "metadata": {},
   "source": [
    "Nous pourrons ici utiliser les variables Country Name ou Country Code pour lier les 3 datasets précédent ensemble.\n",
    "Ce dataset va être intéressant dans la mesure où il va nous renseigner sur différents indicateurs qui seront utiles pour\n",
    "notre problématique. Nous pouvons voir que dans 'Country Name' nous avons comme des region en guise de nom de pays, voyon voir combien il y en a:"
   ]
  },
  {
   "cell_type": "code",
   "execution_count": 8,
   "metadata": {},
   "outputs": [],
   "source": [
    "listePaysData = EdStatsData['Country Name'].dropna().unique()"
   ]
  },
  {
   "cell_type": "markdown",
   "metadata": {},
   "source": [
    "Nous voyons qu'il y a effectivement plusieurs region en terme de nom de pays, par exemple:  \n",
    "'Arab World', 'East Asia & Pacific', 'East Asia & Pacific (excluding high income)', ... \n",
    "\n",
    "Nous allons garder ces regions a part, ça nous servira plus tard:"
   ]
  },
  {
   "cell_type": "code",
   "execution_count": 9,
   "metadata": {},
   "outputs": [],
   "source": [
    "listeZone = ['Arab World', 'East Asia & Pacific',  'East Asia & Pacific (excluding high income)', 'Euro area',\n",
    "                   'Europe & Central Asia', 'Europe & Central Asia (excluding high income)', 'European Union',\n",
    "                   'Heavily indebted poor countries (HIPC)', 'High income',  'Latin America & Caribbean', \n",
    "                   'Latin America & Caribbean (excluding high income)', 'Least developed countries: UN classification',\n",
    "                   'Low & middle income',  'Low income', 'Lower middle income', 'Middle East & North Africa',\n",
    "                   'Middle East & North Africa (excluding high income)', 'Middle income',  'North America', 'OECD members', \n",
    "                   'South Asia',  'Sub-Saharan Africa', 'Sub-Saharan Africa (excluding high income)', 'Upper middle income', \n",
    "                   'World', 'East Asia & Pacific (developing only)', 'East Asia & Pacific (all income levels)',\n",
    "                   'Europe & Central Asia (developing only)', 'Europe & Central Asia (all income levels)', 'Latin America & Caribbean (developing only)',\n",
    "                   'Latin America & Caribbean (all income levels)', 'Middle East & North Africa (all income levels)', \n",
    "                   'Middle East & North Africa (developing only)', 'Sub-Saharan Africa (developing only)', 'Sub-Saharan Africa (all income levels)']"
   ]
  },
  {
   "cell_type": "markdown",
   "metadata": {},
   "source": [
    "De ce fait la liste des pays va être un peu modifiée: "
   ]
  },
  {
   "cell_type": "code",
   "execution_count": 10,
   "metadata": {},
   "outputs": [],
   "source": [
    "listePays = EdStatsCountry[~EdStatsCountry['Short Name'].isin(listeZone)]['Short Name'].unique()"
   ]
  },
  {
   "cell_type": "markdown",
   "metadata": {},
   "source": [
    "Nous pourrons utiliser ici Country Code pour lier les datasets. Ce dataset non plus ne va pas nous être d'une grande aide à la vue des différentes variables. \n",
    "Ce dataset nous donne des information sur l’évolution de nombreux indicateurs pour les pays et zone de EdStatsCountry.csv"
   ]
  },
  {
   "cell_type": "code",
   "execution_count": 11,
   "metadata": {},
   "outputs": [
    {
     "name": "stdout",
     "output_type": "stream",
     "text": [
      "Le dataset a 886930 lignes et 70 colonnes.\n"
     ]
    }
   ],
   "source": [
    "formeData = EdStatsData.shape\n",
    "print('Le dataset a', formeData[0], 'lignes et', formeData[1], 'colonnes.')"
   ]
  },
  {
   "cell_type": "markdown",
   "metadata": {},
   "source": [
    "Beaucoup de données manquantes, aucun doublon."
   ]
  },
  {
   "cell_type": "markdown",
   "metadata": {},
   "source": [
    "## EdStatsFootNote"
   ]
  },
  {
   "cell_type": "code",
   "execution_count": 12,
   "metadata": {},
   "outputs": [
    {
     "data": {
      "text/html": [
       "<div>\n",
       "<style scoped>\n",
       "    .dataframe tbody tr th:only-of-type {\n",
       "        vertical-align: middle;\n",
       "    }\n",
       "\n",
       "    .dataframe tbody tr th {\n",
       "        vertical-align: top;\n",
       "    }\n",
       "\n",
       "    .dataframe thead th {\n",
       "        text-align: right;\n",
       "    }\n",
       "</style>\n",
       "<table border=\"1\" class=\"dataframe\">\n",
       "  <thead>\n",
       "    <tr style=\"text-align: right;\">\n",
       "      <th></th>\n",
       "      <th>CountryCode</th>\n",
       "      <th>SeriesCode</th>\n",
       "      <th>Year</th>\n",
       "      <th>DESCRIPTION</th>\n",
       "      <th>Unnamed: 4</th>\n",
       "    </tr>\n",
       "  </thead>\n",
       "  <tbody>\n",
       "    <tr>\n",
       "      <th>0</th>\n",
       "      <td>ABW</td>\n",
       "      <td>SE.PRE.ENRL.FE</td>\n",
       "      <td>YR2001</td>\n",
       "      <td>Country estimation.</td>\n",
       "      <td>NaN</td>\n",
       "    </tr>\n",
       "    <tr>\n",
       "      <th>1</th>\n",
       "      <td>ABW</td>\n",
       "      <td>SE.TER.TCHR.FE</td>\n",
       "      <td>YR2005</td>\n",
       "      <td>Country estimation.</td>\n",
       "      <td>NaN</td>\n",
       "    </tr>\n",
       "  </tbody>\n",
       "</table>\n",
       "</div>"
      ],
      "text/plain": [
       "  CountryCode      SeriesCode    Year          DESCRIPTION  Unnamed: 4\n",
       "0         ABW  SE.PRE.ENRL.FE  YR2001  Country estimation.         NaN\n",
       "1         ABW  SE.TER.TCHR.FE  YR2005  Country estimation.         NaN"
      ]
     },
     "execution_count": 12,
     "metadata": {},
     "output_type": "execute_result"
    }
   ],
   "source": [
    "EdStatsFootNote.head(2)"
   ]
  },
  {
   "cell_type": "markdown",
   "metadata": {},
   "source": [
    "Nous pourrons utiliser ici Country Code pour lier les fichiers.\n",
    "Ce dataset non plus ne va pas nous être d'une grande aide à la vue des différentes variables. \n",
    "Ce dataset nous donne des informations sur les années d’origine des données."
   ]
  },
  {
   "cell_type": "code",
   "execution_count": 13,
   "metadata": {},
   "outputs": [
    {
     "name": "stdout",
     "output_type": "stream",
     "text": [
      "Le dataset a 643638 lignes et 5 colonnes.\n"
     ]
    }
   ],
   "source": [
    "formeFootNote = EdStatsFootNote.shape\n",
    "print('Le dataset a', formeFootNote[0], 'lignes et', formeFootNote[1], 'colonnes.')"
   ]
  },
  {
   "cell_type": "markdown",
   "metadata": {},
   "source": [
    "Pas de données manquantes, aucun doublon (sauf pour la dernière varible qui est uniquement rempli de valeur NaN)."
   ]
  },
  {
   "cell_type": "markdown",
   "metadata": {},
   "source": [
    "## EdStatsSeries"
   ]
  },
  {
   "cell_type": "code",
   "execution_count": 14,
   "metadata": {},
   "outputs": [
    {
     "data": {
      "text/html": [
       "<div>\n",
       "<style scoped>\n",
       "    .dataframe tbody tr th:only-of-type {\n",
       "        vertical-align: middle;\n",
       "    }\n",
       "\n",
       "    .dataframe tbody tr th {\n",
       "        vertical-align: top;\n",
       "    }\n",
       "\n",
       "    .dataframe thead th {\n",
       "        text-align: right;\n",
       "    }\n",
       "</style>\n",
       "<table border=\"1\" class=\"dataframe\">\n",
       "  <thead>\n",
       "    <tr style=\"text-align: right;\">\n",
       "      <th></th>\n",
       "      <th>Series Code</th>\n",
       "      <th>Topic</th>\n",
       "      <th>Indicator Name</th>\n",
       "      <th>Short definition</th>\n",
       "      <th>Long definition</th>\n",
       "      <th>Unit of measure</th>\n",
       "      <th>Periodicity</th>\n",
       "      <th>Base Period</th>\n",
       "      <th>Other notes</th>\n",
       "      <th>Aggregation method</th>\n",
       "      <th>Limitations and exceptions</th>\n",
       "      <th>Notes from original source</th>\n",
       "      <th>General comments</th>\n",
       "      <th>Source</th>\n",
       "      <th>Statistical concept and methodology</th>\n",
       "      <th>Development relevance</th>\n",
       "      <th>Related source links</th>\n",
       "      <th>Other web links</th>\n",
       "      <th>Related indicators</th>\n",
       "      <th>License Type</th>\n",
       "      <th>Unnamed: 20</th>\n",
       "    </tr>\n",
       "  </thead>\n",
       "  <tbody>\n",
       "    <tr>\n",
       "      <th>0</th>\n",
       "      <td>BAR.NOED.1519.FE.ZS</td>\n",
       "      <td>Attainment</td>\n",
       "      <td>Barro-Lee: Percentage of female population age 15-19 with no education</td>\n",
       "      <td>Percentage of female population age 15-19 with no education</td>\n",
       "      <td>Percentage of female population age 15-19 with no education</td>\n",
       "      <td>NaN</td>\n",
       "      <td>NaN</td>\n",
       "      <td>NaN</td>\n",
       "      <td>NaN</td>\n",
       "      <td>NaN</td>\n",
       "      <td>NaN</td>\n",
       "      <td>NaN</td>\n",
       "      <td>NaN</td>\n",
       "      <td>Robert J. Barro and Jong-Wha Lee: http://www.barrolee.com/</td>\n",
       "      <td>NaN</td>\n",
       "      <td>NaN</td>\n",
       "      <td>NaN</td>\n",
       "      <td>NaN</td>\n",
       "      <td>NaN</td>\n",
       "      <td>NaN</td>\n",
       "      <td>NaN</td>\n",
       "    </tr>\n",
       "    <tr>\n",
       "      <th>1</th>\n",
       "      <td>BAR.NOED.1519.ZS</td>\n",
       "      <td>Attainment</td>\n",
       "      <td>Barro-Lee: Percentage of population age 15-19 with no education</td>\n",
       "      <td>Percentage of population age 15-19 with no education</td>\n",
       "      <td>Percentage of population age 15-19 with no education</td>\n",
       "      <td>NaN</td>\n",
       "      <td>NaN</td>\n",
       "      <td>NaN</td>\n",
       "      <td>NaN</td>\n",
       "      <td>NaN</td>\n",
       "      <td>NaN</td>\n",
       "      <td>NaN</td>\n",
       "      <td>NaN</td>\n",
       "      <td>Robert J. Barro and Jong-Wha Lee: http://www.barrolee.com/</td>\n",
       "      <td>NaN</td>\n",
       "      <td>NaN</td>\n",
       "      <td>NaN</td>\n",
       "      <td>NaN</td>\n",
       "      <td>NaN</td>\n",
       "      <td>NaN</td>\n",
       "      <td>NaN</td>\n",
       "    </tr>\n",
       "  </tbody>\n",
       "</table>\n",
       "</div>"
      ],
      "text/plain": [
       "           Series Code       Topic  \\\n",
       "0  BAR.NOED.1519.FE.ZS  Attainment   \n",
       "1     BAR.NOED.1519.ZS  Attainment   \n",
       "\n",
       "                                                           Indicator Name  \\\n",
       "0  Barro-Lee: Percentage of female population age 15-19 with no education   \n",
       "1         Barro-Lee: Percentage of population age 15-19 with no education   \n",
       "\n",
       "                                              Short definition  \\\n",
       "0  Percentage of female population age 15-19 with no education   \n",
       "1         Percentage of population age 15-19 with no education   \n",
       "\n",
       "                                               Long definition  \\\n",
       "0  Percentage of female population age 15-19 with no education   \n",
       "1         Percentage of population age 15-19 with no education   \n",
       "\n",
       "   Unit of measure Periodicity Base Period Other notes Aggregation method  \\\n",
       "0              NaN         NaN         NaN         NaN                NaN   \n",
       "1              NaN         NaN         NaN         NaN                NaN   \n",
       "\n",
       "  Limitations and exceptions  Notes from original source General comments  \\\n",
       "0                        NaN                         NaN              NaN   \n",
       "1                        NaN                         NaN              NaN   \n",
       "\n",
       "                                                       Source  \\\n",
       "0  Robert J. Barro and Jong-Wha Lee: http://www.barrolee.com/   \n",
       "1  Robert J. Barro and Jong-Wha Lee: http://www.barrolee.com/   \n",
       "\n",
       "  Statistical concept and methodology Development relevance  \\\n",
       "0                                 NaN                   NaN   \n",
       "1                                 NaN                   NaN   \n",
       "\n",
       "  Related source links  Other web links  Related indicators  License Type  \\\n",
       "0                  NaN              NaN                 NaN           NaN   \n",
       "1                  NaN              NaN                 NaN           NaN   \n",
       "\n",
       "   Unnamed: 20  \n",
       "0          NaN  \n",
       "1          NaN  "
      ]
     },
     "execution_count": 14,
     "metadata": {},
     "output_type": "execute_result"
    }
   ],
   "source": [
    "EdStatsSeries.head(2)"
   ]
  },
  {
   "cell_type": "markdown",
   "metadata": {},
   "source": [
    "Nous pourrons utiliser les variables Indicator Name ou Series Code afin de lier les datasets.\n",
    "Ce dataset va être intéressant pour avoir une idée des différents indicateurs, mais pour notre dataset il ne servira pas.\n",
    "\n",
    "Ce dataset nous donne des informations sur les indicateurs dans EdStatsData.csv."
   ]
  },
  {
   "cell_type": "code",
   "execution_count": 15,
   "metadata": {},
   "outputs": [
    {
     "name": "stdout",
     "output_type": "stream",
     "text": [
      "Le fichier a 3665 lignes et 21 colonnes.\n"
     ]
    }
   ],
   "source": [
    "formeSeries = EdStatsSeries.shape\n",
    "print('Le fichier a', formeSeries[0], 'lignes et', formeSeries[1], 'colonnes.')"
   ]
  },
  {
   "cell_type": "markdown",
   "metadata": {},
   "source": [
    "Beaucoup de données manquantes, aucun doublon.\n",
    "\n",
    "Après cette étude très rapide des différents datasets, nous pouvons voir qu'il y a déjà pas mal de données manquantes, \n",
    "on ne peut pas encore inférer par rapport aux doublons à ce niveau.\n",
    "Il sera aussi intéressant de regarder à quoi correspond chaque variable afin de voir si elle est utile pour notre problème, en\n",
    "effet, comme nous pouvons le voir rapidement, on pourrait rassembler ces 5 datasets en 1 seul, mais on se retrouverait\n",
    "avec un fichier énorme contenant plein d'information inutile pour notre problématique.\n",
    "A vu d'oeil il va y avoir 2 fichiers importants, le fichier EdStatsCountry et EdStatsData, mais les 3 autres ne sont pas\n",
    "nécessairement à jeter."
   ]
  },
  {
   "cell_type": "markdown",
   "metadata": {},
   "source": [
    "Les informations importantes dans EdStatsData vont être les indicateurs, qui nous renseignerons sur d'éventuels indicateurs \n",
    "liés à l'éducation, nous allons dans un premiers temps regarder la liste des différents indicateurs."
   ]
  },
  {
   "cell_type": "code",
   "execution_count": 16,
   "metadata": {},
   "outputs": [
    {
     "name": "stdout",
     "output_type": "stream",
     "text": [
      "Il y a  3665  indicateurs différents.\n"
     ]
    }
   ],
   "source": [
    "Data = EdStatsData['Indicator Name'].dropna().unique()\n",
    "print(\"Il y a \", Data.shape[0], \" indicateurs différents.\")"
   ]
  },
  {
   "cell_type": "markdown",
   "metadata": {},
   "source": [
    "Nous pouvons dans un premier temps faire une jointure sur nos 2 tables intéressantes puis regardés rapidement pour quelles \n",
    "années nous avons le plus de données."
   ]
  },
  {
   "cell_type": "code",
   "execution_count": 17,
   "metadata": {},
   "outputs": [],
   "source": [
    "dataset1 = pd.merge(EdStatsData, EdStatsCountry) \n",
    "dataset1 = dataset1.rename(columns={\"Short Name\":\"Nom Pays\"})\n",
    "dataset1 = dataset1.drop(columns=[\"Long Name\", \"Table Name\"])\n",
    "dataset1.drop(['2-alpha code', 'Currency Unit', 'Special Notes', 'WB-2 code', 'Country Name', 'National accounts base year', 'National accounts reference year', 'SNA price valuation', 'Lending category', 'Other groups', 'System of National Accounts', 'Alternative conversion factor', 'PPP survey year', 'Balance of Payments Manual in use', 'External debt Reporting status', 'System of trade', 'Government Accounting concept', 'IMF data dissemination standard', 'Latest population census', 'Latest household survey', 'Source of most recent Income and expenditure data', 'Income Group', 'Vital registration complete', 'Latest agricultural census', 'Latest industrial data', 'Latest trade data', 'Latest water withdrawal data', 'Unnamed: 31','Unnamed: 69'], axis = 1, inplace = True)  "
   ]
  },
  {
   "cell_type": "code",
   "execution_count": 18,
   "metadata": {},
   "outputs": [
    {
     "data": {
      "image/png": "[encoded data removed]",
      "text/plain": [
       "<Figure size 3600x1440 with 1 Axes>"
      ]
     },
     "metadata": {
      "needs_background": "light"
     },
     "output_type": "display_data"
    }
   ],
   "source": [
    "plt.figure(figsize = (50, 20))\n",
    "plt.title('Nombre de données par Année', size=15)\n",
    "plt.xlabel('Nombre de données')\n",
    "plt.ylabel('Année')\n",
    "\n",
    "sns.barplot(x = EdStatsFootNote.groupby('Year')[['CountryCode']].count().sum(axis = 1).index,\n",
    "            y = EdStatsFootNote.groupby('Year')[['CountryCode']].count().sum(axis = 1).values)\n",
    "\n",
    "plt.show()"
   ]
  },
  {
   "cell_type": "markdown",
   "metadata": {},
   "source": [
    "Il faut choisir quelques indicateurs qui nous aiderons à répondre à la problématique.\n",
    "Pour cela nous nous rendons sur le site de l'organisme afin de les choisir.\n",
    "Les indicateurs intéressants seront ceux qui concernent le nombre d'étudiant, l'utilisation d'internet, la \n",
    "population des 15-24ans, bien que l'on puisse suivre une formation après 24ans, pour moi l'indicateur de population total\n",
    "n'est pas très pertinent dans la mesure où on n'aura pas d'information complémentaire, hormis le pourcentage d'étudiant par\n",
    "pays. Le revenu et le taux de chômage seront également intéressants, puisqu'en fonction de cela on pourra inférer si \n",
    "oui ou non un habitant pourra suivre une formation, au chômage on peut suivre une formation Openclassroom par exemple, cette\n",
    "formation a un coup, savoir le revenu moyen par habitant sera donc intéressant.\n",
    "\n",
    "Nous avons fait notre choix sur quelques indicateurs, qui seront:\n",
    "\n",
    "    - Population, ages 15-24, total\n",
    "    - Internet users (per 100 people)\n",
    "    - Government expenditure on education as % of GDP (%)\n",
    "    - Enrolment in tertiary education, all programmes, both sexes (number)\n",
    "    - Enrolment in upper secondary education, both sexes (number)\n",
    "    - GDP per capita (current US$)\n",
    "    - Unemployment, total (% of total labor force)"
   ]
  },
  {
   "cell_type": "code",
   "execution_count": 19,
   "metadata": {},
   "outputs": [],
   "source": [
    "listeIndicateurGardés = ['Population, ages 15-24, total', \n",
    "                         'Internet users (per 100 people)', \n",
    "                         'Government expenditure on education as % of GDP (%)',\n",
    "                         'Enrolment in tertiary education, all programmes, both sexes (number)',  \n",
    "                         'Enrolment in upper secondary education, both sexes (number)',\n",
    "                         'GDP per capita (current US$)',\n",
    "                         'Unemployment, total (% of total labor force)']"
   ]
  },
  {
   "cell_type": "markdown",
   "metadata": {},
   "source": [
    "Nous allons regarder pour quelle année nous avons nos dernière valeurs pour chaque indicateurs, nous allons dans un premier \n",
    "temps réduire un peu le dataset, nous avons vu qu'avant 2000, nous n'avions pas beaucoup de données, nous pouvons donc\n",
    "nous passer des années précédents 2000, de plus comme nous cherchons la dernière valeurs de chaque indacateurs ça ne sert \n",
    "à rien de garder trop d'année, nous allons nous focaliser sur les années 2010 - 2017."
   ]
  },
  {
   "cell_type": "code",
   "execution_count": 20,
   "metadata": {},
   "outputs": [
    {
     "name": "stdout",
     "output_type": "stream",
     "text": [
      "                                                         Indicator Name  \\\n",
      "0  Enrolment in tertiary education, all programmes, both sexes (number)   \n",
      "1           Enrolment in upper secondary education, both sexes (number)   \n",
      "2                                          GDP per capita (current US$)   \n",
      "3                   Government expenditure on education as % of GDP (%)   \n",
      "4                                       Internet users (per 100 people)   \n",
      "5                                         Population, ages 15-24, total   \n",
      "6                          Unemployment, total (% of total labor force)   \n",
      "\n",
      "      Indicator Code  2010  2011  2012  2013  2014  2015  2016  2017  \n",
      "0        SE.TER.ENRL   165   167   166   156   149   115     7     0  \n",
      "1            UIS.E.3   174   179   177   165   143     7     0     0  \n",
      "2     NY.GDP.PCAP.CD   228   228   224   225   219   218   211     0  \n",
      "3  SE.XPD.TOTL.GD.ZS   127   121   113   118    89    44     4     0  \n",
      "4     IT.NET.USER.P2   227   229   227   226   223   223   223     0  \n",
      "5  SP.POP.1524.TO.UN   181   181   181   181   181   181     0     0  \n",
      "6     SL.UEM.TOTL.ZS   211   211   211   211   208   208   208     0  \n"
     ]
    }
   ],
   "source": [
    "dataset_Indicateur = dataset1[dataset1['Indicator Name'].isin(listeIndicateurGardés)].copy()\n",
    "dataset_Indicateur1 = dataset_Indicateur.groupby(['Indicator Name', 'Indicator Code']).count().reset_index()\n",
    "dataset_Indicateur1.drop(['Nom Pays', 'Region', 'Country Code', '1970', '1971', '1972', '1973', '1974', '1975', '1976', '1977', '1978', '1979', '1980', '1981', '1982', '1983', '1984', '1985', '1986', '1987', '1988', '1989', '1990', '1991', '1992', '1993', '1994', '1995', '1996', '1997', '1998', '1999', '2000', '2001', '2002', '2003', '2004', '2005', '2006', '2007', '2008', '2009', '2020', '2025', '2030', '2035', '2040', '2045', '2050', '2055', '2060', '2065', '2070', '2075', '2080', '2085', '2090', '2095', '2100'], axis = 1, inplace = True)\n",
    "dataset_Indicateur.drop(['1970', '1971', '1972', '1973', '1974', '1975', '1976', '1977', '1978', '1979', '1980', '1981', '1982', '1983', '1984', '1985', '1986', '1987', '1988', '1989', '1990', '1991', '1992', '1993', '1994', '1995', '1996', '1997', '1998', '1999', '2000', '2001', '2002', '2003', '2004', '2005', '2006', '2007', '2008', '2009', '2020', '2025', '2030', '2035', '2040', '2045', '2050', '2055', '2060', '2065', '2070', '2075', '2080', '2085', '2090', '2095', '2100'], axis = 1, inplace = True)\n",
    "dataset_Indicateur = dataset_Indicateur[['Nom Pays', 'Region', 'Country Code', 'Indicator Name', 'Indicator Code', '2010', '2011', '2012', '2013', '2014', '2015', '2016']]\n",
    "dataset_Indicateur = dataset_Indicateur[dataset_Indicateur['Nom Pays'].isin(listePays)]\n",
    "\n",
    "print(dataset_Indicateur1)"
   ]
  },
  {
   "cell_type": "markdown",
   "metadata": {},
   "source": [
    "Nous pouvons voir rapidement que l'année 2016 et 2017 peuvent être mise de côté car il manque des valeurs pour ces 2 années,\n",
    "Nous nous focaliserons sur les années 2015 et 2014 dans le cas on il nous manquerait des valeurs pour 1 ou 2 indicateurs.\n",
    "Pour cela nous allons faire une fonction qui va nous renvoyer la dernière valeurs pour chaque indicateur."
   ]
  },
  {
   "cell_type": "code",
   "execution_count": 21,
   "metadata": {},
   "outputs": [
    {
     "data": {
      "text/html": [
       "<div>\n",
       "<style scoped>\n",
       "    .dataframe tbody tr th:only-of-type {\n",
       "        vertical-align: middle;\n",
       "    }\n",
       "\n",
       "    .dataframe tbody tr th {\n",
       "        vertical-align: top;\n",
       "    }\n",
       "\n",
       "    .dataframe thead th {\n",
       "        text-align: right;\n",
       "    }\n",
       "</style>\n",
       "<table border=\"1\" class=\"dataframe\">\n",
       "  <thead>\n",
       "    <tr style=\"text-align: right;\">\n",
       "      <th></th>\n",
       "      <th>Nom Pays</th>\n",
       "      <th>Region</th>\n",
       "      <th>Country Code</th>\n",
       "      <th>Indicator Name</th>\n",
       "      <th>Indicator Code</th>\n",
       "      <th>2010</th>\n",
       "      <th>2011</th>\n",
       "      <th>2012</th>\n",
       "      <th>2013</th>\n",
       "      <th>2014</th>\n",
       "      <th>2015</th>\n",
       "      <th>2016</th>\n",
       "    </tr>\n",
       "  </thead>\n",
       "  <tbody>\n",
       "    <tr>\n",
       "      <th>92829</th>\n",
       "      <td>Afghanistan</td>\n",
       "      <td>South Asia</td>\n",
       "      <td>AFG</td>\n",
       "      <td>Enrolment in tertiary education, all programmes, both sexes (number)</td>\n",
       "      <td>SE.TER.ENRL</td>\n",
       "      <td>NaN</td>\n",
       "      <td>97504.0</td>\n",
       "      <td>NaN</td>\n",
       "      <td>NaN</td>\n",
       "      <td>262874.0</td>\n",
       "      <td>NaN</td>\n",
       "      <td>NaN</td>\n",
       "    </tr>\n",
       "    <tr>\n",
       "      <th>92839</th>\n",
       "      <td>Afghanistan</td>\n",
       "      <td>South Asia</td>\n",
       "      <td>AFG</td>\n",
       "      <td>Enrolment in upper secondary education, both sexes (number)</td>\n",
       "      <td>UIS.E.3</td>\n",
       "      <td>567344.0</td>\n",
       "      <td>743405.0</td>\n",
       "      <td>881415.0</td>\n",
       "      <td>969267.0</td>\n",
       "      <td>968769.0</td>\n",
       "      <td>NaN</td>\n",
       "      <td>NaN</td>\n",
       "    </tr>\n",
       "  </tbody>\n",
       "</table>\n",
       "</div>"
      ],
      "text/plain": [
       "          Nom Pays      Region Country Code  \\\n",
       "92829  Afghanistan  South Asia          AFG   \n",
       "92839  Afghanistan  South Asia          AFG   \n",
       "\n",
       "                                                             Indicator Name  \\\n",
       "92829  Enrolment in tertiary education, all programmes, both sexes (number)   \n",
       "92839           Enrolment in upper secondary education, both sexes (number)   \n",
       "\n",
       "      Indicator Code      2010      2011      2012      2013      2014  2015  \\\n",
       "92829    SE.TER.ENRL       NaN   97504.0       NaN       NaN  262874.0   NaN   \n",
       "92839        UIS.E.3  567344.0  743405.0  881415.0  969267.0  968769.0   NaN   \n",
       "\n",
       "       2016  \n",
       "92829   NaN  \n",
       "92839   NaN  "
      ]
     },
     "execution_count": 21,
     "metadata": {},
     "output_type": "execute_result"
    }
   ],
   "source": [
    "dataset_Indicateur.head(2)"
   ]
  },
  {
   "cell_type": "code",
   "execution_count": 22,
   "metadata": {},
   "outputs": [],
   "source": [
    "dataset_Indicateur['derniereValeur'] = dataset_Indicateur['2016']\n",
    "for i in range(dataset_Indicateur.shape[0]):\n",
    "    for j in range(5, dataset_Indicateur.shape[1]-1):\n",
    "        if dataset_Indicateur.isna().values[i][j] == False:\n",
    "            dataset_Indicateur['derniereValeur'].values[i] = dataset_Indicateur.values[i][j]"
   ]
  },
  {
   "cell_type": "code",
   "execution_count": 23,
   "metadata": {},
   "outputs": [
    {
     "data": {
      "text/html": [
       "<div>\n",
       "<style scoped>\n",
       "    .dataframe tbody tr th:only-of-type {\n",
       "        vertical-align: middle;\n",
       "    }\n",
       "\n",
       "    .dataframe tbody tr th {\n",
       "        vertical-align: top;\n",
       "    }\n",
       "\n",
       "    .dataframe thead th {\n",
       "        text-align: right;\n",
       "    }\n",
       "</style>\n",
       "<table border=\"1\" class=\"dataframe\">\n",
       "  <thead>\n",
       "    <tr style=\"text-align: right;\">\n",
       "      <th></th>\n",
       "      <th>Nom Pays</th>\n",
       "      <th>Region</th>\n",
       "      <th>Country Code</th>\n",
       "      <th>Indicator Name</th>\n",
       "      <th>Indicator Code</th>\n",
       "      <th>2010</th>\n",
       "      <th>2011</th>\n",
       "      <th>2012</th>\n",
       "      <th>2013</th>\n",
       "      <th>2014</th>\n",
       "      <th>2015</th>\n",
       "      <th>2016</th>\n",
       "      <th>derniereValeur</th>\n",
       "    </tr>\n",
       "  </thead>\n",
       "  <tbody>\n",
       "    <tr>\n",
       "      <th>92829</th>\n",
       "      <td>Afghanistan</td>\n",
       "      <td>South Asia</td>\n",
       "      <td>AFG</td>\n",
       "      <td>Enrolment in tertiary education, all programmes, both sexes (number)</td>\n",
       "      <td>SE.TER.ENRL</td>\n",
       "      <td>NaN</td>\n",
       "      <td>97504.0</td>\n",
       "      <td>NaN</td>\n",
       "      <td>NaN</td>\n",
       "      <td>262874.0</td>\n",
       "      <td>NaN</td>\n",
       "      <td>NaN</td>\n",
       "      <td>262874.0</td>\n",
       "    </tr>\n",
       "    <tr>\n",
       "      <th>92839</th>\n",
       "      <td>Afghanistan</td>\n",
       "      <td>South Asia</td>\n",
       "      <td>AFG</td>\n",
       "      <td>Enrolment in upper secondary education, both sexes (number)</td>\n",
       "      <td>UIS.E.3</td>\n",
       "      <td>567344.0</td>\n",
       "      <td>743405.0</td>\n",
       "      <td>881415.0</td>\n",
       "      <td>969267.0</td>\n",
       "      <td>968769.0</td>\n",
       "      <td>NaN</td>\n",
       "      <td>NaN</td>\n",
       "      <td>968769.0</td>\n",
       "    </tr>\n",
       "  </tbody>\n",
       "</table>\n",
       "</div>"
      ],
      "text/plain": [
       "          Nom Pays      Region Country Code  \\\n",
       "92829  Afghanistan  South Asia          AFG   \n",
       "92839  Afghanistan  South Asia          AFG   \n",
       "\n",
       "                                                             Indicator Name  \\\n",
       "92829  Enrolment in tertiary education, all programmes, both sexes (number)   \n",
       "92839           Enrolment in upper secondary education, both sexes (number)   \n",
       "\n",
       "      Indicator Code      2010      2011      2012      2013      2014  2015  \\\n",
       "92829    SE.TER.ENRL       NaN   97504.0       NaN       NaN  262874.0   NaN   \n",
       "92839        UIS.E.3  567344.0  743405.0  881415.0  969267.0  968769.0   NaN   \n",
       "\n",
       "       2016  derniereValeur  \n",
       "92829   NaN        262874.0  \n",
       "92839   NaN        968769.0  "
      ]
     },
     "execution_count": 23,
     "metadata": {},
     "output_type": "execute_result"
    }
   ],
   "source": [
    "dataset_Indicateur.head(2)"
   ]
  },
  {
   "cell_type": "markdown",
   "metadata": {},
   "source": [
    "Il nous est demandé de \"Déterminer des ordres de grandeurs des indicateurs statistiques classiques pour les différentes zones\n",
    "géographiques et pays du monde\", maintenant que nous avons nos indicateurs, nous pouvons inférer sur la moyenne/médiane/écart-type \n",
    "par pays et par continent ou bloc géographique."
   ]
  },
  {
   "cell_type": "code",
   "execution_count": 24,
   "metadata": {},
   "outputs": [
    {
     "name": "stdout",
     "output_type": "stream",
     "text": [
      "Population, ages 15-24, total : \n",
      "                2010          2011          2012          2013          2014  \\\n",
      "count  1.810000e+02  1.810000e+02  1.810000e+02  1.810000e+02  1.810000e+02   \n",
      "mean   6.685106e+06  6.695223e+06  6.692680e+06  6.681607e+06  6.667586e+06   \n",
      "std    2.454837e+07  2.453688e+07  2.445796e+07  2.433234e+07  2.418672e+07   \n",
      "min    1.329900e+04  1.346600e+04  1.370800e+04  1.399000e+04  1.425300e+04   \n",
      "25%    5.159600e+05  5.166370e+05  5.102590e+05  5.024180e+05  4.925230e+05   \n",
      "50%    1.309299e+06  1.321838e+06  1.305029e+06  1.313021e+06  1.320960e+06   \n",
      "75%    4.949474e+06  5.041764e+06  4.938116e+06  4.955417e+06  5.087952e+06   \n",
      "max    2.350568e+08  2.375485e+08  2.397136e+08  2.415350e+08  2.430027e+08   \n",
      "\n",
      "               2015  2016  derniereValeur  \n",
      "count  1.810000e+02   0.0    1.810000e+02  \n",
      "mean   6.654995e+06   NaN    6.654995e+06  \n",
      "std    2.404044e+07   NaN    2.404044e+07  \n",
      "min    1.445500e+04   NaN    1.445500e+04  \n",
      "25%    4.897540e+05   NaN    4.897540e+05  \n",
      "50%    1.331040e+06   NaN    1.331040e+06  \n",
      "75%    4.945440e+06   NaN    4.945440e+06  \n",
      "max    2.441202e+08   NaN    2.441202e+08  \n",
      "Internet users (per 100 people) : \n",
      "              2010        2011        2012        2013        2014        2015  \\\n",
      "count  202.000000  204.000000  202.000000  201.000000  201.000000  201.000000   \n",
      "mean    34.259979   36.972104   40.024864   42.854551   45.790927   48.785759   \n",
      "std     27.422946   27.901361   28.578198   28.973733   28.837174   28.542027   \n",
      "min      0.000000    0.000000    0.000000    0.900000    0.990000    1.083733   \n",
      "25%      8.092500   10.052500   12.520015   15.000000   17.700000   21.725834   \n",
      "50%     30.325000   35.010000   37.850000   43.300000   46.200000   50.300000   \n",
      "75%     54.760000   58.393408   63.427499   66.450000   70.000000   73.098700   \n",
      "max     93.390000   94.819687   96.209800   96.546800   98.160000   98.323610   \n",
      "\n",
      "             2016  derniereValeur  \n",
      "count  201.000000      204.000000  \n",
      "mean    51.414523       51.264318  \n",
      "std     28.568752       28.629366  \n",
      "min      1.177119        0.000000  \n",
      "25%     25.366301       25.336288  \n",
      "50%     54.000000       53.613386  \n",
      "75%     76.409085       76.234824  \n",
      "max     98.240016       98.240016  \n",
      "Government expenditure on education as % of GDP (%) : \n",
      "              2010        2011        2012        2013       2014       2015  \\\n",
      "count  127.000000  121.000000  113.000000  118.000000  89.000000  44.000000   \n",
      "mean     4.703878    4.432473    4.506971    4.625450   4.658066   4.354698   \n",
      "std      1.952108    1.652679    1.677964    1.647974   1.612233   1.878442   \n",
      "min      1.204090    0.805210    1.331120    1.178900   1.021950   1.322320   \n",
      "25%      3.481455    3.187720    3.118500    3.437160   3.479140   3.179247   \n",
      "50%      4.582380    4.442940    4.557860    4.756995   4.868460   4.351550   \n",
      "75%      5.660935    5.513930    5.659370    5.624572   5.734490   5.219302   \n",
      "max     12.837270    9.257060    8.383220    8.627110   8.429330  12.467750   \n",
      "\n",
      "           2016  derniereValeur  \n",
      "count  4.000000      156.000000  \n",
      "mean   2.945007        4.681118  \n",
      "std    1.286781        1.925917  \n",
      "min    1.810940        1.021950  \n",
      "25%    1.897490        3.260010  \n",
      "50%    2.771840        4.606185  \n",
      "75%    3.819358        5.534502  \n",
      "max    4.425410       12.837270  \n",
      "Enrolment in tertiary education, all programmes, both sexes (number) : \n",
      "                2010          2011          2012          2013          2014  \\\n",
      "count  1.400000e+02  1.420000e+02  1.410000e+02  1.310000e+02  1.240000e+02   \n",
      "mean   1.116439e+06  1.257417e+06  1.299410e+06  1.403220e+06  1.586171e+06   \n",
      "std    3.644336e+06  3.963955e+06  4.140941e+06  4.321399e+06  5.022489e+06   \n",
      "min    5.000000e+00  1.890000e+02  1.000000e+02  2.380000e+02  1.780000e+02   \n",
      "25%    4.896600e+04  6.695225e+04  6.331800e+04  9.429450e+04  1.066330e+05   \n",
      "50%    1.954315e+05  2.247635e+05  2.175020e+05  2.389450e+05  2.618603e+05   \n",
      "75%    5.748460e+05  6.604332e+05  6.636980e+05  6.838275e+05  8.997438e+05   \n",
      "max    3.104674e+07  3.130838e+07  3.258596e+07  3.409129e+07  4.192420e+07   \n",
      "\n",
      "               2015           2016  derniereValeur  \n",
      "count  1.090000e+02       7.000000    1.710000e+02  \n",
      "mean   1.587529e+06  197838.428571    1.212277e+06  \n",
      "std    5.517566e+06  210245.804130    4.463643e+06  \n",
      "min    1.940000e+02   20280.000000    1.940000e+02  \n",
      "25%    8.588100e+04   66778.000000    3.838600e+04  \n",
      "50%    2.410540e+05   94728.000000    2.041520e+05  \n",
      "75%    5.416530e+05  256385.500000    5.757275e+05  \n",
      "max    4.336739e+07  623534.000000    4.336739e+07  \n",
      "Enrolment in upper secondary education, both sexes (number) : \n",
      "                2010          2011          2012          2013          2014  \\\n",
      "count  1.490000e+02  1.540000e+02  1.520000e+02  1.400000e+02  1.180000e+02   \n",
      "mean   1.434139e+06  1.428260e+06  1.473325e+06  1.652275e+06  1.118482e+06   \n",
      "std    5.525380e+06  5.633161e+06  5.926140e+06  6.208302e+06  4.284639e+06   \n",
      "min    1.221000e+03  1.259000e+03  2.540000e+02  1.150000e+03  3.530000e+02   \n",
      "25%    4.899900e+04  4.621775e+04  4.802375e+04  8.661100e+04  4.525200e+04   \n",
      "50%    2.296610e+05  2.270375e+05  2.236180e+05  2.467021e+05  2.244755e+05   \n",
      "75%    7.765800e+05  7.869322e+05  8.344158e+05  9.396090e+05  6.663720e+05   \n",
      "max    4.826586e+07  5.167142e+07  5.614189e+07  5.522868e+07  4.370922e+07   \n",
      "\n",
      "               2015  2016  derniereValeur  \n",
      "count  7.000000e+00   0.0    1.810000e+02  \n",
      "mean   3.883340e+05   NaN    1.346074e+06  \n",
      "std    5.298411e+05   NaN    5.398210e+06  \n",
      "min    8.000000e+02   NaN    3.530000e+02  \n",
      "25%    1.449950e+04   NaN    4.389400e+04  \n",
      "50%    2.936400e+04   NaN    2.009000e+05  \n",
      "75%    6.590840e+05   NaN    8.031090e+05  \n",
      "max    1.341007e+06   NaN    5.522868e+07  \n",
      "GDP per capita (current US$) : \n",
      "                 2010           2011           2012           2013  \\\n",
      "count     203.000000     203.000000     199.000000     200.000000   \n",
      "mean    15407.469485   16941.499320   16161.451188   16676.866997   \n",
      "std     23160.370003   25641.218818   23109.622195   24425.069010   \n",
      "min       231.194326     260.479907     265.285605     282.755525   \n",
      "25%      1484.819298    1674.907841    1777.926771    1873.085265   \n",
      "50%      5411.877404    5771.565878    6338.117781    6468.471316   \n",
      "75%     19270.167305   21487.929947   20153.636574   19998.762811   \n",
      "max    144246.368775  162009.877819  149295.646044  173528.150454   \n",
      "\n",
      "                2014           2015           2016  derniereValeur  \n",
      "count     197.000000     196.000000     189.000000      204.000000  \n",
      "mean    16588.194640   14829.991229   13308.833845    15813.054414  \n",
      "std     24520.014984   21836.077881   18042.544985    24258.533373  \n",
      "min       312.748979     300.676557     285.727442      285.727442  \n",
      "25%      2017.587781    1907.072860    1900.201479     1979.163102  \n",
      "50%      6396.630483    5636.896757    5219.109408     5514.723690  \n",
      "75%     19325.277386   17054.401994   15891.626549    18070.608200  \n",
      "max    179308.075616  168146.015281  100573.139978   168146.015281  \n",
      "Unemployment, total (% of total labor force) : \n",
      "              2010        2011        2012        2013        2014        2015  \\\n",
      "count  186.000000  186.000000  186.000000  186.000000  186.000000  186.000000   \n",
      "mean     9.130645    9.119355    9.132796    9.112903    8.990323    8.833871   \n",
      "std      6.358529    6.385224    6.600020    6.595449    6.525999    6.419614   \n",
      "min      0.400000    0.200000    0.200000    0.300000    0.100000    0.100000   \n",
      "25%      4.825000    4.500000    4.500000    4.425000    4.800000    4.625000   \n",
      "50%      7.450000    7.200000    7.100000    7.100000    6.850000    6.850000   \n",
      "75%     11.750000   12.700000   12.200000   11.900000   11.575000   11.350000   \n",
      "max     32.000000   31.400000   31.000000   31.100000   31.200001   31.299999   \n",
      "\n",
      "             2016  derniereValeur  \n",
      "count  186.000000      186.000000  \n",
      "mean     8.689247        8.689247  \n",
      "std      6.366109        6.366109  \n",
      "min      0.200000        0.200000  \n",
      "25%      4.450000        4.450000  \n",
      "50%      6.550000        6.550000  \n",
      "75%     11.375000       11.375000  \n",
      "max     31.400000       31.400000  \n"
     ]
    }
   ],
   "source": [
    "for indicateur in (listeIndicateurGardés):\n",
    "    print(indicateur,\": \\n\", dataset_Indicateur[dataset_Indicateur['Indicator Name'] == indicateur].describe())"
   ]
  },
  {
   "cell_type": "code",
   "execution_count": 25,
   "metadata": {},
   "outputs": [
    {
     "data": {
      "image/png": "[encoded data removed]",
      "text/plain": [
       "<Figure size 1440x720 with 1 Axes>"
      ]
     },
     "metadata": {
      "needs_background": "light"
     },
     "output_type": "display_data"
    }
   ],
   "source": [
    "plt.figure(figsize = (20, 10))\n",
    "sns.boxplot(y = dataset_Indicateur[dataset_Indicateur['Indicator Name'] == 'Population, ages 15-24, total']['derniereValeur'],\n",
    "            x = dataset_Indicateur['Region'])\n",
    "plt.title(\"Population des 15-24 ans par région\")\n",
    "plt.ylabel('Nombre d\\'étudiant')\n",
    "plt.xlabel('Région')\n",
    "plt.show()"
   ]
  },
  {
   "cell_type": "code",
   "execution_count": 26,
   "metadata": {},
   "outputs": [
    {
     "data": {
      "image/png": "[encoded data removed]",
      "text/plain": [
       "<Figure size 1440x720 with 1 Axes>"
      ]
     },
     "metadata": {
      "needs_background": "light"
     },
     "output_type": "display_data"
    }
   ],
   "source": [
    "plt.figure(figsize = (20, 10))\n",
    "sns.boxplot(y = dataset_Indicateur[dataset_Indicateur['Indicator Name'] == 'Internet users (per 100 people)']['derniereValeur'],\n",
    "            x = dataset_Indicateur['Region'])\n",
    "plt.title(\"Couverture Internet par région\")\n",
    "plt.ylabel('Couverture en %')\n",
    "plt.xlabel('Région')\n",
    "plt.show()"
   ]
  },
  {
   "cell_type": "code",
   "execution_count": null,
   "metadata": {},
   "outputs": [],
   "source": []
  },
  {
   "cell_type": "code",
   "execution_count": 27,
   "metadata": {},
   "outputs": [
    {
     "data": {
      "image/png": "[encoded data removed]",
      "text/plain": [
       "<Figure size 1440x720 with 1 Axes>"
      ]
     },
     "metadata": {
      "needs_background": "light"
     },
     "output_type": "display_data"
    }
   ],
   "source": [
    "plt.figure(figsize = (20, 10))\n",
    "sns.boxplot(y = dataset_Indicateur[dataset_Indicateur['Indicator Name'] == 'Government expenditure on education as % of GDP (%)']['derniereValeur'],\n",
    "            x = dataset_Indicateur['Region'])\n",
    "plt.title(\"Dépenses pour l'édcation en % du PIB\")\n",
    "plt.ylabel('Distribution en %')\n",
    "plt.xlabel('Région')\n",
    "plt.show()"
   ]
  },
  {
   "cell_type": "code",
   "execution_count": 28,
   "metadata": {},
   "outputs": [
    {
     "data": {
      "image/png": "[encoded data removed]",
      "text/plain": [
       "<Figure size 1440x720 with 1 Axes>"
      ]
     },
     "metadata": {
      "needs_background": "light"
     },
     "output_type": "display_data"
    }
   ],
   "source": [
    "plt.figure(figsize = (20, 10))\n",
    "sns.boxplot(y = dataset_Indicateur[dataset_Indicateur['Indicator Name'] == 'Enrolment in tertiary education, all programmes, both sexes (number)']['derniereValeur'],\n",
    "            x = dataset_Indicateur['Region'])\n",
    "plt.title(\"Nombre d'étudiant en 'tertiary education' par région\")\n",
    "plt.ylabel('Nombre d\\'étudiant')\n",
    "plt.xlabel('Région')\n",
    "plt.show()"
   ]
  },
  {
   "cell_type": "code",
   "execution_count": 29,
   "metadata": {},
   "outputs": [
    {
     "data": {
      "image/png": "[encoded data removed]",
      "text/plain": [
       "<Figure size 1440x720 with 1 Axes>"
      ]
     },
     "metadata": {
      "needs_background": "light"
     },
     "output_type": "display_data"
    }
   ],
   "source": [
    "plt.figure(figsize = (20, 10))\n",
    "sns.boxplot(y = dataset_Indicateur[dataset_Indicateur['Indicator Name'] == 'Enrolment in upper secondary education, both sexes (number)']['derniereValeur'],\n",
    "            x = dataset_Indicateur['Region'])\n",
    "plt.title(\"Nombre d'étudiant en 'upper secondary education' par région\")\n",
    "plt.ylabel('Nombre d\\'étudiant')\n",
    "plt.xlabel('Région')\n",
    "plt.show()"
   ]
  },
  {
   "cell_type": "code",
   "execution_count": 30,
   "metadata": {},
   "outputs": [
    {
     "data": {
      "image/png": "[encoded data removed]",
      "text/plain": [
       "<Figure size 1440x720 with 1 Axes>"
      ]
     },
     "metadata": {
      "needs_background": "light"
     },
     "output_type": "display_data"
    }
   ],
   "source": [
    "plt.figure(figsize = (20, 10))\n",
    "sns.boxplot(y = dataset_Indicateur[dataset_Indicateur['Indicator Name'] == 'GDP per capita (current US$)']['derniereValeur'],\n",
    "            x = dataset_Indicateur['Region'])\n",
    "plt.title(\"PIB par habitant et par région\")\n",
    "plt.ylabel('Valeur en US$')\n",
    "plt.xlabel('Région')\n",
    "plt.show()"
   ]
  },
  {
   "cell_type": "code",
   "execution_count": 31,
   "metadata": {},
   "outputs": [
    {
     "data": {
      "image/png": "[encoded data removed]",
      "text/plain": [
       "<Figure size 1440x720 with 1 Axes>"
      ]
     },
     "metadata": {
      "needs_background": "light"
     },
     "output_type": "display_data"
    }
   ],
   "source": [
    "plt.figure(figsize = (20, 10))\n",
    "sns.boxplot(y = dataset_Indicateur[dataset_Indicateur['Indicator Name'] == 'Unemployment, total (% of total labor force)']['derniereValeur'],\n",
    "            x = dataset_Indicateur['Region'])\n",
    "plt.title(\"Taux de chômage en % par région\")\n",
    "plt.ylabel('Distribution en %')\n",
    "plt.xlabel('Région')\n",
    "plt.show()"
   ]
  },
  {
   "cell_type": "markdown",
   "metadata": {},
   "source": [
    "Nous pouvons voir qu'il ya quelques outliers pour nos différents indicateurs, ces valeurs représentes les pays qui sont \"en tête\"\n",
    "pour cet indicateur, mais qui ont eu valeur tellement elevée par rapport au autres pays, qu'ils sont considérés comme aberrants\n",
    "ou atypiques.\n",
    "Nous notre études se sont peut être les pays qui seront à focaliser, puisqu'ici ces valeurs seront en réalité les valeurs max\n",
    "pour chaque indicateur.\n",
    "Auquel cas il faudrait prendre un indicateur statistique plus robuste."
   ]
  },
  {
   "cell_type": "code",
   "execution_count": 32,
   "metadata": {},
   "outputs": [
    {
     "name": "stdout",
     "output_type": "stream",
     "text": [
      "Population, ages 15-24, total :\n",
      "            2010       2011       2012       2013       2014       2015  2016  \\\n",
      "0.25   515960.0   516637.0   510259.0   502418.0   492523.0   489754.0   NaN   \n",
      "0.50  1309299.0  1321838.0  1305029.0  1313021.0  1320960.0  1331040.0   NaN   \n",
      "0.75  4949474.0  5041764.0  4938116.0  4955417.0  5087952.0  4945440.0   NaN   \n",
      "\n",
      "      derniereValeur  \n",
      "0.25        489754.0  \n",
      "0.50       1331040.0  \n",
      "0.75       4945440.0   \n",
      "\n",
      "Internet users (per 100 people) :\n",
      "          2010       2011       2012   2013  2014       2015       2016  \\\n",
      "0.25   8.0925  10.052500  12.520015  15.00  17.7  21.725834  25.366301   \n",
      "0.50  30.3250  35.010000  37.850000  43.30  46.2  50.300000  54.000000   \n",
      "0.75  54.7600  58.393408  63.427499  66.45  70.0  73.098700  76.409085   \n",
      "\n",
      "      derniereValeur  \n",
      "0.25       25.336288  \n",
      "0.50       53.613386  \n",
      "0.75       76.234824   \n",
      "\n",
      "Government expenditure on education as % of GDP (%) :\n",
      "           2010     2011     2012      2013     2014      2015      2016  \\\n",
      "0.25  3.481455  3.18772  3.11850  3.437160  3.47914  3.179247  1.897490   \n",
      "0.50  4.582380  4.44294  4.55786  4.756995  4.86846  4.351550  2.771840   \n",
      "0.75  5.660935  5.51393  5.65937  5.624572  5.73449  5.219302  3.819358   \n",
      "\n",
      "      derniereValeur  \n",
      "0.25        3.260010  \n",
      "0.50        4.606185  \n",
      "0.75        5.534502   \n",
      "\n",
      "Enrolment in tertiary education, all programmes, both sexes (number) :\n",
      "           2010       2011      2012      2013          2014      2015  \\\n",
      "0.25   48966.0   66952.25   63318.0   94294.5  106633.00000   85881.0   \n",
      "0.50  195431.5  224763.50  217502.0  238945.0  261860.34375  241054.0   \n",
      "0.75  574846.0  660433.25  663698.0  683827.5  899743.75000  541653.0   \n",
      "\n",
      "          2016  derniereValeur  \n",
      "0.25   66778.0         38386.0  \n",
      "0.50   94728.0        204152.0  \n",
      "0.75  256385.5        575727.5   \n",
      "\n",
      "Enrolment in upper secondary education, both sexes (number) :\n",
      "           2010       2011       2012           2013      2014      2015  2016  \\\n",
      "0.25   48999.0   46217.75   48023.75   86611.000000   45252.0   14499.5   NaN   \n",
      "0.50  229661.0  227037.50  223618.00  246702.054688  224475.5   29364.0   NaN   \n",
      "0.75  776580.0  786932.25  834415.75  939609.000000  666372.0  659084.0   NaN   \n",
      "\n",
      "      derniereValeur  \n",
      "0.25         43894.0  \n",
      "0.50        200900.0  \n",
      "0.75        803109.0   \n",
      "\n",
      "GDP per capita (current US$) :\n",
      "               2010          2011          2012          2013          2014  \\\n",
      "0.25   1484.819298   1674.907841   1777.926771   1873.085265   2017.587781   \n",
      "0.50   5411.877404   5771.565878   6338.117781   6468.471316   6396.630483   \n",
      "0.75  19270.167305  21487.929947  20153.636574  19998.762811  19325.277386   \n",
      "\n",
      "              2015          2016  derniereValeur  \n",
      "0.25   1907.072860   1900.201479     1979.163102  \n",
      "0.50   5636.896757   5219.109408     5514.723690  \n",
      "0.75  17054.401994  15891.626549    18070.608200   \n",
      "\n",
      "Unemployment, total (% of total labor force) :\n",
      "         2010  2011  2012    2013    2014    2015    2016  derniereValeur\n",
      "0.25   4.825   4.5   4.5   4.425   4.800   4.625   4.450           4.450\n",
      "0.50   7.450   7.2   7.1   7.100   6.850   6.850   6.550           6.550\n",
      "0.75  11.750  12.7  12.2  11.900  11.575  11.350  11.375          11.375 \n",
      "\n"
     ]
    }
   ],
   "source": [
    "for indicateur in (listeIndicateurGardés):\n",
    "    print(indicateur, ':\\n', dataset_Indicateur[dataset_Indicateur['Indicator Name'] == indicateur].quantile([0.25,0.5,0.75]),'\\n')"
   ]
  },
  {
   "cell_type": "markdown",
   "metadata": {},
   "source": [
    "Dans notre cas nous allons garder le dernier quartile non nul pour chaque indicateur, il nous aidera à choisir les pays, \n",
    "nous aurions pu prendre le max de chaque quartile pour chaque indicateur mais ce qui s'est passé il y a 5 ans ne nous intéresse\n",
    "pas dans l'immédiat.\n"
   ]
  },
  {
   "cell_type": "code",
   "execution_count": 33,
   "metadata": {},
   "outputs": [],
   "source": [
    "population1524_075 = 4945440.0\n",
    "internetUsers_075 = 76.409085\n",
    "gdpE_075 = 3.819358\n",
    "tertiaryEducation_075 = 256385.5\n",
    "uSecondaryEducation = 659084.0\n",
    "gdpCapita_075 = 15891.626549\n",
    "unemployment_075 = 11.375"
   ]
  },
  {
   "cell_type": "code",
   "execution_count": 34,
   "metadata": {},
   "outputs": [],
   "source": [
    "listePaysGardésPop = []\n",
    "for i in range(dataset_Indicateur[dataset_Indicateur['Indicator Name'] == 'Population, ages 15-24, total'].shape[0]):\n",
    "    if dataset_Indicateur[dataset_Indicateur['Indicator Name'] == 'Population, ages 15-24, total']['derniereValeur'].values[i] > population1524_075:\n",
    "        listePaysGardésPop.append(dataset_Indicateur[dataset_Indicateur['Indicator Name'] == 'Population, ages 15-24, total']['Nom Pays'].values[i])"
   ]
  },
  {
   "cell_type": "markdown",
   "metadata": {},
   "source": [
    "Nous avons déjà une première base des pays on la société pourrait investir mais essayons d'affiner cela un peu plus."
   ]
  },
  {
   "cell_type": "markdown",
   "metadata": {},
   "source": [
    "Pour chaque indicateur nous allons garder les pays ayant une \"dernière valeur\" de leur série temporelle supérieur au quartile 75%, comme ça nous ne garderons que les pays pouvant convenir à notre problématique. "
   ]
  },
  {
   "cell_type": "code",
   "execution_count": 54,
   "metadata": {},
   "outputs": [],
   "source": [
    "listePaysGardésInternet = []\n",
    "for i in range(dataset_Indicateur[dataset_Indicateur['Indicator Name'] == 'Internet users (per 100 people)'].shape[0]):\n",
    "    if dataset_Indicateur[dataset_Indicateur['Indicator Name'] == 'Internet users (per 100 people)']['derniereValeur'].values[i] > internetUsers_075:\n",
    "        listePaysGardésInternet.append(dataset_Indicateur[dataset_Indicateur['Indicator Name'] == 'Internet users (per 100 people)']['Nom Pays'].values[i])"
   ]
  },
  {
   "cell_type": "code",
   "execution_count": 36,
   "metadata": {},
   "outputs": [],
   "source": [
    "listePaysGardésGDP = []\n",
    "for i in range(dataset_Indicateur[dataset_Indicateur['Indicator Name'] == 'Government expenditure on education as % of GDP (%)'].shape[0]):\n",
    "    if dataset_Indicateur[dataset_Indicateur['Indicator Name'] == 'Government expenditure on education as % of GDP (%)']['derniereValeur'].values[i] > gdpE_075:\n",
    "        listePaysGardésGDP.append(dataset_Indicateur[dataset_Indicateur['Indicator Name'] == 'Government expenditure on education as % of GDP (%)']['Nom Pays'].values[i])"
   ]
  },
  {
   "cell_type": "code",
   "execution_count": 37,
   "metadata": {},
   "outputs": [],
   "source": [
    "listePaysGardésTertiaryEducation = []\n",
    "for i in range(dataset_Indicateur[dataset_Indicateur['Indicator Name'] == 'Enrolment in tertiary education, all programmes, both sexes (number)'].shape[0]):\n",
    "    if dataset_Indicateur[dataset_Indicateur['Indicator Name'] == 'Enrolment in tertiary education, all programmes, both sexes (number)']['derniereValeur'].values[i] >  tertiaryEducation_075:\n",
    "        listePaysGardésTertiaryEducation.append(dataset_Indicateur[dataset_Indicateur['Indicator Name'] == 'Enrolment in tertiary education, all programmes, both sexes (number)']['Nom Pays'].values[i])"
   ]
  },
  {
   "cell_type": "code",
   "execution_count": 38,
   "metadata": {},
   "outputs": [],
   "source": [
    "listePaysGardésSecondaryEducation = []\n",
    "for i in range(dataset_Indicateur[dataset_Indicateur['Indicator Name'] == 'Enrolment in upper secondary education, both sexes (number)'].shape[0]):\n",
    "    if dataset_Indicateur[dataset_Indicateur['Indicator Name'] == 'Enrolment in upper secondary education, both sexes (number)']['derniereValeur'].values[i] >  uSecondaryEducation:\n",
    "        listePaysGardésSecondaryEducation.append(dataset_Indicateur[dataset_Indicateur['Indicator Name'] == 'Enrolment in upper secondary education, both sexes (number)']['Nom Pays'].values[i])"
   ]
  },
  {
   "cell_type": "code",
   "execution_count": 39,
   "metadata": {},
   "outputs": [],
   "source": [
    "listePaysGardésGDPCapita = []\n",
    "for i in range(dataset_Indicateur[dataset_Indicateur['Indicator Name'] == 'GDP per capita (current US$)'].shape[0]):\n",
    "    if dataset_Indicateur[dataset_Indicateur['Indicator Name'] == 'GDP per capita (current US$)']['derniereValeur'].values[i] >  gdpCapita_075:\n",
    "        listePaysGardésGDPCapita.append(dataset_Indicateur[dataset_Indicateur['Indicator Name'] == 'GDP per capita (current US$)']['Nom Pays'].values[i])"
   ]
  },
  {
   "cell_type": "code",
   "execution_count": 40,
   "metadata": {},
   "outputs": [],
   "source": [
    "listePaysGardésChomage = []\n",
    "for i in range(dataset_Indicateur[dataset_Indicateur['Indicator Name'] == 'Unemployment, total (% of total labor force)'].shape[0]):\n",
    "    if dataset_Indicateur[dataset_Indicateur['Indicator Name'] == 'Unemployment, total (% of total labor force)']['derniereValeur'].values[i] >  unemployment_075:\n",
    "        listePaysGardésChomage.append(dataset_Indicateur[dataset_Indicateur['Indicator Name'] == 'Unemployment, total (% of total labor force)']['Nom Pays'].values[i])"
   ]
  },
  {
   "cell_type": "code",
   "execution_count": 41,
   "metadata": {},
   "outputs": [
    {
     "name": "stdout",
     "output_type": "stream",
     "text": [
      "['Italy', 'Yemen', 'Argentina', 'Slovenia', 'United Kingdom', 'Albania', 'Saudi Arabia', 'Brazil', 'Haiti', 'Ghana', 'Austria', 'Morocco', 'Ecuador', 'Slovak Republic', 'Korea', 'Guatemala', 'Libya', 'Germany', 'Nicaragua', 'Poland', 'Hong Kong SAR, China', 'St. Kitts and Nevis', 'Virgin Islands', 'Macedonia', 'Timor-Leste', 'Jamaica', 'Switzerland', 'Cuba', \"Dem. People's Rep. Korea\", 'Russia', 'Gabon', 'Estonia', 'Romania', 'Japan', 'Tajikistan', 'Guam', 'Jordan', 'Kuwait', 'Malaysia', 'Curaçao', 'Isle of Man', 'Cyprus', 'Algeria', 'Swaziland', 'Bhutan', 'Fiji', 'Aruba', 'Georgia', 'Solomon Islands', 'Micronesia', 'Latvia', 'Macao SAR, China', 'Puerto Rico', 'Iraq', 'Maldives', 'Burkina Faso', 'São Tomé and Principe', 'Israel', 'French Polynesia', 'Finland', 'Colombia', 'Bahrain', 'China', 'Afghanistan', 'Gibraltar', 'New Caledonia', 'Uzbekistan', 'Tanzania', 'Zimbabwe', 'Kenya', 'Moldova', 'New Zealand', 'Senegal', 'Faeroe Islands', 'Sudan', 'Luxembourg', 'Vietnam', 'Monaco', 'Sweden', 'Portugal', 'Australia', 'Paraguay', 'Syrian Arab Republic', 'Belarus', 'Togo', 'Guyana', 'France', 'Mexico', 'Djibouti', 'Malta', 'Indonesia', 'Bosnia and Herzegovina', 'Norway', 'United Arab Emirates', 'Liechtenstein', 'Mongolia', 'Qatar', 'The Gambia', 'Canada', 'Ukraine', 'Andorra', 'Trinidad and Tobago', 'Iceland', 'Kyrgyz Republic', 'Thailand', 'Honduras', 'Pakistan', 'Greenland', 'Uruguay', 'Myanmar', 'Hungary', 'Egypt', 'Nigeria', 'Bulgaria', \"Côte d'Ivoire\", 'Botswana', 'Northern Mariana Islands', 'Cameroon', 'Namibia', 'Peru', 'Bolivia', 'Nepal', 'Singapore', 'San Marino', 'Ireland', 'Cabo Verde', 'Lesotho', 'Barbados', 'South Africa', 'Mozambique', 'Bermuda', 'Uganda', 'St. Lucia', 'Vanuatu', 'Niger', 'India', 'Armenia', 'Greece', 'Brunei', 'Netherlands', 'St. Vincent and the Grenadines', 'Lithuania', 'Croatia', 'Belgium', 'Cayman Islands', 'Congo', 'The Bahamas', 'Chile', 'Costa Rica', 'Oman', 'Azerbaijan', 'Turkey', 'Sri Lanka', 'Denmark', 'Iran', 'Spain', 'Belize', 'United States', 'Bangladesh', 'Kazakhstan', 'Czech Republic', 'Dem. Rep. Congo', 'Dominican Republic', 'Benin', 'Mauritius', 'Serbia', 'Comoros', 'Tunisia', 'West Bank and Gaza', 'Burundi', 'Philippines', 'Montenegro', 'Venezuela', 'Ethiopia', 'Malawi']\n"
     ]
    }
   ],
   "source": [
    "listePaysGardés = listePaysGardésChomage + listePaysGardésGDP + listePaysGardésGDPCapita + listePaysGardésInternet + listePaysGardésPop + listePaysGardésSecondaryEducation + listePaysGardésTertiaryEducation\n",
    "listePaysGardés = list(set(listePaysGardés))\n",
    "print(listePaysGardés)"
   ]
  },
  {
   "cell_type": "markdown",
   "metadata": {},
   "source": [
    "Voici une liste des pays qui répondent dans un premier temps a au moins un indicateurs (seuil choisi), on peut supprimer les \n",
    "pays qui n'y sont pas car ils ne répondent pas du tout à notre étude."
   ]
  },
  {
   "cell_type": "code",
   "execution_count": 42,
   "metadata": {},
   "outputs": [
    {
     "name": "stdout",
     "output_type": "stream",
     "text": [
      "['Angola', 'American Samoa', 'Antigua and Barbuda', 'Central African Republic', 'Channel Islands', 'Dominica', 'Eritrea', 'Guinea', 'Guinea-Bissau', 'Equatorial Guinea', 'Grenada', 'Cambodia', 'Kiribati', 'Lao PDR', 'Lebanon', 'Liberia', 'St. Martin (French part)', 'Madagascar', 'Marshall Islands', 'Mali', 'Mauritania', 'Nauru', 'Panama', 'Palau', 'Papua New Guinea', 'Rwanda', 'Sierra Leone', 'El Salvador', 'Somalia', 'South Sudan', 'Suriname', 'Sint Maarten (Dutch part)', 'Seychelles', 'Turks and Caicos Islands', 'Chad', 'Turkmenistan', 'Tonga', 'Tuvalu', 'Samoa', 'Kosovo', 'Zambia']\n"
     ]
    }
   ],
   "source": [
    "listePaysASupprimé = []\n",
    "\n",
    "for pays in range(len(listePays)):\n",
    "    if listePays[pays] in listePaysGardés:\n",
    "        continue\n",
    "    else:\n",
    "        listePaysASupprimé.append(listePays[pays])\n",
    "\n",
    "print(listePaysASupprimé)"
   ]
  },
  {
   "cell_type": "markdown",
   "metadata": {},
   "source": [
    "On ne garde que les pays pouvant répondre à la problématique:"
   ]
  },
  {
   "cell_type": "code",
   "execution_count": 43,
   "metadata": {},
   "outputs": [],
   "source": [
    "dataset_Indicateur = dataset_Indicateur[~dataset_Indicateur['Nom Pays'].isin(listePaysASupprimé)]"
   ]
  },
  {
   "cell_type": "markdown",
   "metadata": {},
   "source": [
    "Cepedant bien que ces pays répondent au moins à l'un des seuil que l'on a choisi, ils ne vont pas tous répondre à \n",
    "notre problématique. En effet certains pays ne sont là que parce qu'ils ont un taux de chômage non négligeable, c'est une bonne chose pour notre problématique car nous pourrons toucher plus de personnes avec les formations à distance\n",
    "mais on ne peut pas utiliser que ça. Nous allons dans un premier temps faire un premier filtrage par rapport au nombre\n",
    "d'étudiant"
   ]
  },
  {
   "cell_type": "code",
   "execution_count": 44,
   "metadata": {},
   "outputs": [
    {
     "data": {
      "text/html": [
       "<div>\n",
       "<style scoped>\n",
       "    .dataframe tbody tr th:only-of-type {\n",
       "        vertical-align: middle;\n",
       "    }\n",
       "\n",
       "    .dataframe tbody tr th {\n",
       "        vertical-align: top;\n",
       "    }\n",
       "\n",
       "    .dataframe thead th {\n",
       "        text-align: right;\n",
       "    }\n",
       "</style>\n",
       "<table border=\"1\" class=\"dataframe\">\n",
       "  <thead>\n",
       "    <tr style=\"text-align: right;\">\n",
       "      <th></th>\n",
       "      <th>Nom Pays</th>\n",
       "      <th>Nombre Etudiant</th>\n",
       "    </tr>\n",
       "  </thead>\n",
       "  <tbody>\n",
       "    <tr>\n",
       "      <th>411694</th>\n",
       "      <td>India</td>\n",
       "      <td>87336096.0</td>\n",
       "    </tr>\n",
       "    <tr>\n",
       "      <th>239439</th>\n",
       "      <td>China</td>\n",
       "      <td>87076616.0</td>\n",
       "    </tr>\n",
       "    <tr>\n",
       "      <th>844164</th>\n",
       "      <td>United States</td>\n",
       "      <td>31268043.0</td>\n",
       "    </tr>\n",
       "    <tr>\n",
       "      <th>188129</th>\n",
       "      <td>Brazil</td>\n",
       "      <td>18235058.0</td>\n",
       "    </tr>\n",
       "    <tr>\n",
       "      <th>415359</th>\n",
       "      <td>Indonesia</td>\n",
       "      <td>15010659.0</td>\n",
       "    </tr>\n",
       "    <tr>\n",
       "      <th>814844</th>\n",
       "      <td>Turkey</td>\n",
       "      <td>11058509.0</td>\n",
       "    </tr>\n",
       "    <tr>\n",
       "      <th>675574</th>\n",
       "      <td>Russia</td>\n",
       "      <td>9415420.0</td>\n",
       "    </tr>\n",
       "    <tr>\n",
       "      <th>419024</th>\n",
       "      <td>Iran</td>\n",
       "      <td>8494556.0</td>\n",
       "    </tr>\n",
       "    <tr>\n",
       "      <th>554629</th>\n",
       "      <td>Mexico</td>\n",
       "      <td>8101727.0</td>\n",
       "    </tr>\n",
       "    <tr>\n",
       "      <th>147814</th>\n",
       "      <td>Bangladesh</td>\n",
       "      <td>7853068.5</td>\n",
       "    </tr>\n",
       "  </tbody>\n",
       "</table>\n",
       "</div>"
      ],
      "text/plain": [
       "             Nom Pays  Nombre Etudiant\n",
       "411694          India       87336096.0\n",
       "239439          China       87076616.0\n",
       "844164  United States       31268043.0\n",
       "188129         Brazil       18235058.0\n",
       "415359      Indonesia       15010659.0\n",
       "814844         Turkey       11058509.0\n",
       "675574         Russia        9415420.0\n",
       "419024           Iran        8494556.0\n",
       "554629         Mexico        8101727.0\n",
       "147814     Bangladesh        7853068.5"
      ]
     },
     "execution_count": 44,
     "metadata": {},
     "output_type": "execute_result"
    }
   ],
   "source": [
    "SecondaryEducation1 = dataset_Indicateur[dataset_Indicateur['Indicator Name'] == 'Enrolment in upper secondary education, both sexes (number)']\n",
    "TertiaryEducation1 = dataset_Indicateur[dataset_Indicateur['Indicator Name'] == 'Enrolment in tertiary education, all programmes, both sexes (number)']\n",
    "\n",
    "df = pd.DataFrame()\n",
    "df = SecondaryEducation1.copy()\n",
    "df['Nombre Etudiant'] = SecondaryEducation1['derniereValeur']\n",
    "for i in range(len(SecondaryEducation1)):\n",
    "    df['Nombre Etudiant'].values[i] = SecondaryEducation1['derniereValeur'].values[i] + TertiaryEducation1['derniereValeur'].values[i]\n",
    "    \n",
    "df[['Nom Pays', 'Nombre Etudiant']].sort_values('Nombre Etudiant', ascending = False).head(10)"
   ]
  },
  {
   "cell_type": "markdown",
   "metadata": {},
   "source": [
    "Comme nous avions pu le voir et le deviner, nous retrouvons bien la Chine, l'Inde et les Etats-Unis dans les première place\n",
    "en terme d'étudiants (lycée et études supérieures) qui sont bien devant les autres pays."
   ]
  },
  {
   "cell_type": "code",
   "execution_count": 45,
   "metadata": {},
   "outputs": [
    {
     "data": {
      "image/png": "[encoded data removed]",
      "text/plain": [
       "<Figure size 432x288 with 1 Axes>"
      ]
     },
     "metadata": {
      "needs_background": "light"
     },
     "output_type": "display_data"
    }
   ],
   "source": [
    "sns.barplot(x = df.sort_values(by = 'Nombre Etudiant', ascending = False)['Nombre Etudiant'].head(10), y = df.sort_values(by = 'Nombre Etudiant', ascending = False)['Nom Pays'].head(10))\n",
    "plt.title('Nombre de lycéens et étudiants par pays')\n",
    "plt.xlabel('Nombre d\\'étudiants')\n",
    "plt.ylabel('Pays')\n",
    "plt.show()"
   ]
  },
  {
   "cell_type": "markdown",
   "metadata": {},
   "source": [
    "Pour avoir une idée des étudiants utilisant ou qui peuvent utiliser internet, nous pouvons utiliser l'indicateur\n",
    " 'Internet users (per 100 people)'"
   ]
  },
  {
   "cell_type": "code",
   "execution_count": 46,
   "metadata": {},
   "outputs": [
    {
     "data": {
      "text/html": [
       "<div>\n",
       "<style scoped>\n",
       "    .dataframe tbody tr th:only-of-type {\n",
       "        vertical-align: middle;\n",
       "    }\n",
       "\n",
       "    .dataframe tbody tr th {\n",
       "        vertical-align: top;\n",
       "    }\n",
       "\n",
       "    .dataframe thead th {\n",
       "        text-align: right;\n",
       "    }\n",
       "</style>\n",
       "<table border=\"1\" class=\"dataframe\">\n",
       "  <thead>\n",
       "    <tr style=\"text-align: right;\">\n",
       "      <th></th>\n",
       "      <th>Nom Pays</th>\n",
       "      <th>Nombre Etudiant</th>\n",
       "      <th>Etudiant_Internet</th>\n",
       "    </tr>\n",
       "  </thead>\n",
       "  <tbody>\n",
       "    <tr>\n",
       "      <th>239439</th>\n",
       "      <td>China</td>\n",
       "      <td>87076616.00</td>\n",
       "      <td>4.632476e+07</td>\n",
       "    </tr>\n",
       "    <tr>\n",
       "      <th>411694</th>\n",
       "      <td>India</td>\n",
       "      <td>87336096.00</td>\n",
       "      <td>2.580534e+07</td>\n",
       "    </tr>\n",
       "    <tr>\n",
       "      <th>844164</th>\n",
       "      <td>United States</td>\n",
       "      <td>31268043.00</td>\n",
       "      <td>2.381897e+07</td>\n",
       "    </tr>\n",
       "    <tr>\n",
       "      <th>188129</th>\n",
       "      <td>Brazil</td>\n",
       "      <td>18235058.00</td>\n",
       "      <td>1.088318e+07</td>\n",
       "    </tr>\n",
       "    <tr>\n",
       "      <th>675574</th>\n",
       "      <td>Russia</td>\n",
       "      <td>9415420.00</td>\n",
       "      <td>7.194236e+06</td>\n",
       "    </tr>\n",
       "    <tr>\n",
       "      <th>444679</th>\n",
       "      <td>Japan</td>\n",
       "      <td>7545380.00</td>\n",
       "      <td>6.941750e+06</td>\n",
       "    </tr>\n",
       "    <tr>\n",
       "      <th>814844</th>\n",
       "      <td>Turkey</td>\n",
       "      <td>11058509.00</td>\n",
       "      <td>6.452389e+06</td>\n",
       "    </tr>\n",
       "    <tr>\n",
       "      <th>840499</th>\n",
       "      <td>United Kingdom</td>\n",
       "      <td>6548014.25</td>\n",
       "      <td>6.205933e+06</td>\n",
       "    </tr>\n",
       "    <tr>\n",
       "      <th>353054</th>\n",
       "      <td>Germany</td>\n",
       "      <td>5557733.25</td>\n",
       "      <td>4.982347e+06</td>\n",
       "    </tr>\n",
       "    <tr>\n",
       "      <th>554629</th>\n",
       "      <td>Mexico</td>\n",
       "      <td>8101727.00</td>\n",
       "      <td>4.823804e+06</td>\n",
       "    </tr>\n",
       "  </tbody>\n",
       "</table>\n",
       "</div>"
      ],
      "text/plain": [
       "              Nom Pays  Nombre Etudiant  Etudiant_Internet\n",
       "239439           China      87076616.00       4.632476e+07\n",
       "411694           India      87336096.00       2.580534e+07\n",
       "844164   United States      31268043.00       2.381897e+07\n",
       "188129          Brazil      18235058.00       1.088318e+07\n",
       "675574          Russia       9415420.00       7.194236e+06\n",
       "444679           Japan       7545380.00       6.941750e+06\n",
       "814844          Turkey      11058509.00       6.452389e+06\n",
       "840499  United Kingdom       6548014.25       6.205933e+06\n",
       "353054         Germany       5557733.25       4.982347e+06\n",
       "554629          Mexico       8101727.00       4.823804e+06"
      ]
     },
     "execution_count": 46,
     "metadata": {},
     "output_type": "execute_result"
    }
   ],
   "source": [
    "InternetUsers1 = dataset_Indicateur[dataset_Indicateur['Indicator Name'] == 'Internet users (per 100 people)']\n",
    "df['Internet Users'] = InternetUsers1['derniereValeur']\n",
    "for i in range(len(InternetUsers1)):\n",
    "    df['Internet Users'].values[i] = InternetUsers1['derniereValeur'].values[i]\n",
    "    \n",
    "df['Etudiant_Internet'] = df['Internet Users']\n",
    "for i in range(len(InternetUsers1)):\n",
    "    df['Etudiant_Internet'].values[i] = (df['Internet Users'].values[i] * df['Nombre Etudiant'].values[i])/100\n",
    "    \n",
    "df[['Nom Pays', 'Nombre Etudiant', 'Etudiant_Internet']].sort_values('Etudiant_Internet', ascending = False).head(10)"
   ]
  },
  {
   "cell_type": "code",
   "execution_count": 47,
   "metadata": {},
   "outputs": [
    {
     "data": {
      "image/png": "[encoded data removed]",
      "text/plain": [
       "<Figure size 432x288 with 1 Axes>"
      ]
     },
     "metadata": {
      "needs_background": "light"
     },
     "output_type": "display_data"
    }
   ],
   "source": [
    "sns.barplot(x = df.sort_values(by = 'Etudiant_Internet', ascending = False)['Etudiant_Internet'].head(10), y = df.sort_values(by = 'Etudiant_Internet', ascending=False)['Nom Pays'].head(10))\n",
    "plt.title('Nombre de lycéens et étudiants \\'ayant\\' ou \\'pouvant avoir\\' internet')\n",
    "plt.xlabel('Nombre d\\'étudiants')\n",
    "plt.ylabel('Pays')\n",
    "plt.show()"
   ]
  },
  {
   "cell_type": "markdown",
   "metadata": {},
   "source": [
    "Nous pouvons comme pour les indicateurs, gardés les pays avec un nombre d'étudiants ayant ou pouvant avoir internet qui sont\n",
    "au dessus d'un certain seuil, fixons ce seuil à 2M."
   ]
  },
  {
   "cell_type": "code",
   "execution_count": 48,
   "metadata": {},
   "outputs": [
    {
     "name": "stdout",
     "output_type": "stream",
     "text": [
      "['Argentina', 'Australia', 'Brazil', 'China', 'Colombia', 'Egypt', 'France', 'Germany', 'India', 'Indonesia', 'Iran', 'Italy', 'Japan', 'Korea', 'Mexico', 'Philippines', 'Poland', 'Russia', 'Saudi Arabia', 'South Africa', 'Spain', 'Thailand', 'Turkey', 'United Kingdom', 'United States']\n"
     ]
    }
   ],
   "source": [
    "listePaysSup2M = []\n",
    "for i in range(len(InternetUsers1)):\n",
    "    if df['Etudiant_Internet'].values[i] > 2000000:\n",
    "        listePaysSup2M.append(df['Nom Pays'].values[i])\n",
    "        \n",
    "print(listePaysSup2M)"
   ]
  },
  {
   "cell_type": "markdown",
   "metadata": {},
   "source": [
    "Ces pays semblent déjà plus intéressant pour notre étude en fonction des étudiants et d'internet, donc pour une formation à\n",
    "distance.\n",
    "\n",
    "On ne garde que les pays intéressant pouvant répondre à la problématique:"
   ]
  },
  {
   "cell_type": "code",
   "execution_count": 49,
   "metadata": {},
   "outputs": [],
   "source": [
    "dataset_Indicateur = dataset_Indicateur[dataset_Indicateur['Nom Pays'].isin(listePaysSup2M)]"
   ]
  },
  {
   "cell_type": "code",
   "execution_count": 50,
   "metadata": {},
   "outputs": [
    {
     "data": {
      "text/plain": [
       "(175, 13)"
      ]
     },
     "execution_count": 50,
     "metadata": {},
     "output_type": "execute_result"
    }
   ],
   "source": [
    "dataset_Indicateur.shape"
   ]
  },
  {
   "cell_type": "markdown",
   "metadata": {},
   "source": [
    "Pour inférer sur l'évolution pour les prochaines années nous allons regarder les moyennes de l'augmentation des indicateurs\n",
    "chaque année depuis 2010. Enfin de voir s'il y a une tendance à l'augmentation ou à la diminution."
   ]
  },
  {
   "cell_type": "code",
   "execution_count": 51,
   "metadata": {},
   "outputs": [
    {
     "data": {
      "text/html": [
       "<div>\n",
       "<style scoped>\n",
       "    .dataframe tbody tr th:only-of-type {\n",
       "        vertical-align: middle;\n",
       "    }\n",
       "\n",
       "    .dataframe tbody tr th {\n",
       "        vertical-align: top;\n",
       "    }\n",
       "\n",
       "    .dataframe thead th {\n",
       "        text-align: right;\n",
       "    }\n",
       "</style>\n",
       "<table border=\"1\" class=\"dataframe\">\n",
       "  <thead>\n",
       "    <tr style=\"text-align: right;\">\n",
       "      <th></th>\n",
       "      <th>Nom Pays</th>\n",
       "      <th>2010-2011</th>\n",
       "      <th>2011-2012</th>\n",
       "      <th>2012-2013</th>\n",
       "      <th>2013-2014</th>\n",
       "      <th>2014-2015</th>\n",
       "      <th>2015-2016</th>\n",
       "      <th>2010-2016</th>\n",
       "      <th>mean_InternetUsers</th>\n",
       "    </tr>\n",
       "  </thead>\n",
       "  <tbody>\n",
       "    <tr>\n",
       "      <th>419185</th>\n",
       "      <td>Iran</td>\n",
       "      <td>3.10</td>\n",
       "      <td>3.7300</td>\n",
       "      <td>7.220000</td>\n",
       "      <td>9.400000</td>\n",
       "      <td>5.984976</td>\n",
       "      <td>7.891797</td>\n",
       "      <td>37.326773</td>\n",
       "      <td>6.221129</td>\n",
       "    </tr>\n",
       "    <tr>\n",
       "      <th>675735</th>\n",
       "      <td>Russia</td>\n",
       "      <td>6.00</td>\n",
       "      <td>14.8000</td>\n",
       "      <td>4.170000</td>\n",
       "      <td>2.550000</td>\n",
       "      <td>2.890000</td>\n",
       "      <td>2.999085</td>\n",
       "      <td>33.409085</td>\n",
       "      <td>5.568181</td>\n",
       "    </tr>\n",
       "    <tr>\n",
       "      <th>694060</th>\n",
       "      <td>Saudi Arabia</td>\n",
       "      <td>6.50</td>\n",
       "      <td>6.5000</td>\n",
       "      <td>6.500000</td>\n",
       "      <td>4.213657</td>\n",
       "      <td>4.902578</td>\n",
       "      <td>4.134668</td>\n",
       "      <td>32.750904</td>\n",
       "      <td>5.458484</td>\n",
       "    </tr>\n",
       "    <tr>\n",
       "      <th>653745</th>\n",
       "      <td>Philippines</td>\n",
       "      <td>4.00</td>\n",
       "      <td>7.2351</td>\n",
       "      <td>11.863924</td>\n",
       "      <td>1.500976</td>\n",
       "      <td>4.100000</td>\n",
       "      <td>1.800000</td>\n",
       "      <td>30.500000</td>\n",
       "      <td>5.083333</td>\n",
       "    </tr>\n",
       "    <tr>\n",
       "      <th>734375</th>\n",
       "      <td>South Africa</td>\n",
       "      <td>9.97</td>\n",
       "      <td>7.0300</td>\n",
       "      <td>5.500000</td>\n",
       "      <td>2.500000</td>\n",
       "      <td>2.919116</td>\n",
       "      <td>2.080884</td>\n",
       "      <td>30.000000</td>\n",
       "      <td>5.000000</td>\n",
       "    </tr>\n",
       "  </tbody>\n",
       "</table>\n",
       "</div>"
      ],
      "text/plain": [
       "            Nom Pays  2010-2011  2011-2012  2012-2013  2013-2014  2014-2015  \\\n",
       "419185          Iran       3.10     3.7300   7.220000   9.400000   5.984976   \n",
       "675735        Russia       6.00    14.8000   4.170000   2.550000   2.890000   \n",
       "694060  Saudi Arabia       6.50     6.5000   6.500000   4.213657   4.902578   \n",
       "653745   Philippines       4.00     7.2351  11.863924   1.500976   4.100000   \n",
       "734375  South Africa       9.97     7.0300   5.500000   2.500000   2.919116   \n",
       "\n",
       "        2015-2016  2010-2016  mean_InternetUsers  \n",
       "419185   7.891797  37.326773            6.221129  \n",
       "675735   2.999085  33.409085            5.568181  \n",
       "694060   4.134668  32.750904            5.458484  \n",
       "653745   1.800000  30.500000            5.083333  \n",
       "734375   2.080884  30.000000            5.000000  "
      ]
     },
     "execution_count": 51,
     "metadata": {},
     "output_type": "execute_result"
    }
   ],
   "source": [
    "df35 = dataset_Indicateur[dataset_Indicateur['Indicator Name'] == 'Internet users (per 100 people)'].copy()\n",
    "df35['2010-2011'] = dataset_Indicateur[dataset_Indicateur['Indicator Name'] == 'Internet users (per 100 people)']['2016']\n",
    "df35['2011-2012'] = dataset_Indicateur[dataset_Indicateur['Indicator Name'] == 'Internet users (per 100 people)']['2016']\n",
    "df35['2012-2013'] = dataset_Indicateur[dataset_Indicateur['Indicator Name'] == 'Internet users (per 100 people)']['2016']\n",
    "df35['2013-2014'] = dataset_Indicateur[dataset_Indicateur['Indicator Name'] == 'Internet users (per 100 people)']['2016']\n",
    "df35['2014-2015'] = dataset_Indicateur[dataset_Indicateur['Indicator Name'] == 'Internet users (per 100 people)']['2016']\n",
    "df35['2015-2016'] = dataset_Indicateur[dataset_Indicateur['Indicator Name'] == 'Internet users (per 100 people)']['2016']\n",
    "df35['mean_InternetUsers'] = dataset_Indicateur[dataset_Indicateur['Indicator Name'] == 'Internet users (per 100 people)']['2016']\n",
    "df35['2010-2016'] = dataset_Indicateur[dataset_Indicateur['Indicator Name'] == 'Internet users (per 100 people)']['2016']\n",
    "\n",
    "\n",
    "for i in range(dataset_Indicateur[dataset_Indicateur['Indicator Name'] == 'Internet users (per 100 people)'].shape[0]):    \n",
    "    df35['2010-2011'].values[i] = dataset_Indicateur[dataset_Indicateur['Indicator Name'] == 'Internet users (per 100 people)']['2011'].values[i] - dataset_Indicateur[dataset_Indicateur['Indicator Name'] == 'Internet users (per 100 people)']['2010'].values[i]\n",
    "    df35['2011-2012'].values[i] = dataset_Indicateur[dataset_Indicateur['Indicator Name'] == 'Internet users (per 100 people)']['2012'].values[i] - dataset_Indicateur[dataset_Indicateur['Indicator Name'] == 'Internet users (per 100 people)']['2011'].values[i]\n",
    "    df35['2012-2013'].values[i] = dataset_Indicateur[dataset_Indicateur['Indicator Name'] == 'Internet users (per 100 people)']['2013'].values[i] - dataset_Indicateur[dataset_Indicateur['Indicator Name'] == 'Internet users (per 100 people)']['2012'].values[i]\n",
    "    df35['2013-2014'].values[i] = dataset_Indicateur[dataset_Indicateur['Indicator Name'] == 'Internet users (per 100 people)']['2014'].values[i] - dataset_Indicateur[dataset_Indicateur['Indicator Name'] == 'Internet users (per 100 people)']['2013'].values[i]\n",
    "    df35['2014-2015'].values[i] = dataset_Indicateur[dataset_Indicateur['Indicator Name'] == 'Internet users (per 100 people)']['2015'].values[i] - dataset_Indicateur[dataset_Indicateur['Indicator Name'] == 'Internet users (per 100 people)']['2014'].values[i]\n",
    "    df35['2015-2016'].values[i] = dataset_Indicateur[dataset_Indicateur['Indicator Name'] == 'Internet users (per 100 people)']['2016'].values[i] - dataset_Indicateur[dataset_Indicateur['Indicator Name'] == 'Internet users (per 100 people)']['2015'].values[i]\n",
    "    df35['2010-2016'].values[i] = dataset_Indicateur[dataset_Indicateur['Indicator Name'] == 'Internet users (per 100 people)']['2016'].values[i] - dataset_Indicateur[dataset_Indicateur['Indicator Name'] == 'Internet users (per 100 people)']['2010'].values[i]\n",
    "\n",
    "    \n",
    "df35['mean_InternetUsers'] = df35[[str(année) for année in ['2010-2011', '2011-2012', '2012-2013', '2013-2014', '2014-2015', '2015-2016']]].mean(axis = 1, skipna = True)\n",
    "df35[['Nom Pays', '2010-2011', '2011-2012', '2012-2013', '2013-2014', '2014-2015', '2015-2016','2010-2016', 'mean_InternetUsers']].sort_values('mean_InternetUsers', ascending = False).head(5)"
   ]
  },
  {
   "cell_type": "code",
   "execution_count": 52,
   "metadata": {},
   "outputs": [
    {
     "data": {
      "text/html": [
       "<div>\n",
       "<style scoped>\n",
       "    .dataframe tbody tr th:only-of-type {\n",
       "        vertical-align: middle;\n",
       "    }\n",
       "\n",
       "    .dataframe tbody tr th {\n",
       "        vertical-align: top;\n",
       "    }\n",
       "\n",
       "    .dataframe thead th {\n",
       "        text-align: right;\n",
       "    }\n",
       "</style>\n",
       "<table border=\"1\" class=\"dataframe\">\n",
       "  <thead>\n",
       "    <tr style=\"text-align: right;\">\n",
       "      <th></th>\n",
       "      <th>Nom Pays</th>\n",
       "      <th>2010-2011</th>\n",
       "      <th>2011-2012</th>\n",
       "      <th>2012-2013</th>\n",
       "      <th>2013-2014</th>\n",
       "      <th>2014-2015</th>\n",
       "      <th>2015-2016</th>\n",
       "      <th>2010-2016</th>\n",
       "    </tr>\n",
       "  </thead>\n",
       "  <tbody>\n",
       "    <tr>\n",
       "      <th>419185</th>\n",
       "      <td>Iran</td>\n",
       "      <td>3.10</td>\n",
       "      <td>3.7300</td>\n",
       "      <td>7.220000</td>\n",
       "      <td>9.400000</td>\n",
       "      <td>5.984976</td>\n",
       "      <td>7.891797</td>\n",
       "      <td>37.326773</td>\n",
       "    </tr>\n",
       "    <tr>\n",
       "      <th>675735</th>\n",
       "      <td>Russia</td>\n",
       "      <td>6.00</td>\n",
       "      <td>14.8000</td>\n",
       "      <td>4.170000</td>\n",
       "      <td>2.550000</td>\n",
       "      <td>2.890000</td>\n",
       "      <td>2.999085</td>\n",
       "      <td>33.409085</td>\n",
       "    </tr>\n",
       "    <tr>\n",
       "      <th>694060</th>\n",
       "      <td>Saudi Arabia</td>\n",
       "      <td>6.50</td>\n",
       "      <td>6.5000</td>\n",
       "      <td>6.500000</td>\n",
       "      <td>4.213657</td>\n",
       "      <td>4.902578</td>\n",
       "      <td>4.134668</td>\n",
       "      <td>32.750904</td>\n",
       "    </tr>\n",
       "    <tr>\n",
       "      <th>653745</th>\n",
       "      <td>Philippines</td>\n",
       "      <td>4.00</td>\n",
       "      <td>7.2351</td>\n",
       "      <td>11.863924</td>\n",
       "      <td>1.500976</td>\n",
       "      <td>4.100000</td>\n",
       "      <td>1.800000</td>\n",
       "      <td>30.500000</td>\n",
       "    </tr>\n",
       "    <tr>\n",
       "      <th>734375</th>\n",
       "      <td>South Africa</td>\n",
       "      <td>9.97</td>\n",
       "      <td>7.0300</td>\n",
       "      <td>5.500000</td>\n",
       "      <td>2.500000</td>\n",
       "      <td>2.919116</td>\n",
       "      <td>2.080884</td>\n",
       "      <td>30.000000</td>\n",
       "    </tr>\n",
       "  </tbody>\n",
       "</table>\n",
       "</div>"
      ],
      "text/plain": [
       "            Nom Pays  2010-2011  2011-2012  2012-2013  2013-2014  2014-2015  \\\n",
       "419185          Iran       3.10     3.7300   7.220000   9.400000   5.984976   \n",
       "675735        Russia       6.00    14.8000   4.170000   2.550000   2.890000   \n",
       "694060  Saudi Arabia       6.50     6.5000   6.500000   4.213657   4.902578   \n",
       "653745   Philippines       4.00     7.2351  11.863924   1.500976   4.100000   \n",
       "734375  South Africa       9.97     7.0300   5.500000   2.500000   2.919116   \n",
       "\n",
       "        2015-2016  2010-2016  \n",
       "419185   7.891797  37.326773  \n",
       "675735   2.999085  33.409085  \n",
       "694060   4.134668  32.750904  \n",
       "653745   1.800000  30.500000  \n",
       "734375   2.080884  30.000000  "
      ]
     },
     "execution_count": 52,
     "metadata": {},
     "output_type": "execute_result"
    }
   ],
   "source": [
    "df35[['Nom Pays', '2010-2011', '2011-2012', '2012-2013', '2013-2014', '2014-2015', '2015-2016','2010-2016']].sort_values('2010-2016', ascending = False).head(5)"
   ]
  },
  {
   "cell_type": "markdown",
   "metadata": {},
   "source": [
    "Comme nous pouvons le voir la tendance et à une augmentation du nombre d'utilisateur entre 2010 et 2016 pour les pays choisi.\n",
    "On peut donc imaginer que cette tendance va se poursuivre.\n",
    " Les pays choisi sont donc interessant dans l'ensmeble. "
   ]
  },
  {
   "cell_type": "code",
   "execution_count": 53,
   "metadata": {},
   "outputs": [
    {
     "data": {
      "text/html": [
       "<div>\n",
       "<style scoped>\n",
       "    .dataframe tbody tr th:only-of-type {\n",
       "        vertical-align: middle;\n",
       "    }\n",
       "\n",
       "    .dataframe tbody tr th {\n",
       "        vertical-align: top;\n",
       "    }\n",
       "\n",
       "    .dataframe thead th {\n",
       "        text-align: right;\n",
       "    }\n",
       "</style>\n",
       "<table border=\"1\" class=\"dataframe\">\n",
       "  <thead>\n",
       "    <tr style=\"text-align: right;\">\n",
       "      <th></th>\n",
       "      <th>Nom Pays</th>\n",
       "      <th>2010-2011_NombreEtudiant</th>\n",
       "      <th>2011-2012_NombreEtudiant</th>\n",
       "      <th>2012-2013_NombreEtudiant</th>\n",
       "      <th>2013-2014_NombreEtudiant</th>\n",
       "      <th>2010-2014_NombreEtudiant</th>\n",
       "      <th>mean_NombreEtudiant</th>\n",
       "    </tr>\n",
       "  </thead>\n",
       "  <tbody>\n",
       "    <tr>\n",
       "      <th>411855</th>\n",
       "      <td>India</td>\n",
       "      <td>9315764.0</td>\n",
       "      <td>6387928.0</td>\n",
       "      <td>-1306484.0</td>\n",
       "      <td>NaN</td>\n",
       "      <td>NaN</td>\n",
       "      <td>4.799069e+06</td>\n",
       "    </tr>\n",
       "    <tr>\n",
       "      <th>239600</th>\n",
       "      <td>China</td>\n",
       "      <td>112450.0</td>\n",
       "      <td>957738.0</td>\n",
       "      <td>3244428.0</td>\n",
       "      <td>5578904.0</td>\n",
       "      <td>9893520.0</td>\n",
       "      <td>2.473380e+06</td>\n",
       "    </tr>\n",
       "    <tr>\n",
       "      <th>815005</th>\n",
       "      <td>Turkey</td>\n",
       "      <td>619048.0</td>\n",
       "      <td>382077.0</td>\n",
       "      <td>1801753.0</td>\n",
       "      <td>NaN</td>\n",
       "      <td>NaN</td>\n",
       "      <td>9.342927e+05</td>\n",
       "    </tr>\n",
       "    <tr>\n",
       "      <th>415520</th>\n",
       "      <td>Indonesia</td>\n",
       "      <td>1028477.0</td>\n",
       "      <td>1300826.0</td>\n",
       "      <td>696822.0</td>\n",
       "      <td>159713.0</td>\n",
       "      <td>3185838.0</td>\n",
       "      <td>7.964595e+05</td>\n",
       "    </tr>\n",
       "    <tr>\n",
       "      <th>188290</th>\n",
       "      <td>Brazil</td>\n",
       "      <td>488430.0</td>\n",
       "      <td>358602.0</td>\n",
       "      <td>806956.0</td>\n",
       "      <td>NaN</td>\n",
       "      <td>NaN</td>\n",
       "      <td>5.513293e+05</td>\n",
       "    </tr>\n",
       "  </tbody>\n",
       "</table>\n",
       "</div>"
      ],
      "text/plain": [
       "         Nom Pays  2010-2011_NombreEtudiant  2011-2012_NombreEtudiant  \\\n",
       "411855      India                 9315764.0                 6387928.0   \n",
       "239600      China                  112450.0                  957738.0   \n",
       "815005     Turkey                  619048.0                  382077.0   \n",
       "415520  Indonesia                 1028477.0                 1300826.0   \n",
       "188290     Brazil                  488430.0                  358602.0   \n",
       "\n",
       "        2012-2013_NombreEtudiant  2013-2014_NombreEtudiant  \\\n",
       "411855                -1306484.0                       NaN   \n",
       "239600                 3244428.0                 5578904.0   \n",
       "815005                 1801753.0                       NaN   \n",
       "415520                  696822.0                  159713.0   \n",
       "188290                  806956.0                       NaN   \n",
       "\n",
       "        2010-2014_NombreEtudiant  mean_NombreEtudiant  \n",
       "411855                       NaN         4.799069e+06  \n",
       "239600                 9893520.0         2.473380e+06  \n",
       "815005                       NaN         9.342927e+05  \n",
       "415520                 3185838.0         7.964595e+05  \n",
       "188290                       NaN         5.513293e+05  "
      ]
     },
     "execution_count": 53,
     "metadata": {},
     "output_type": "execute_result"
    }
   ],
   "source": [
    "df35['2010-2014_NombreEtudiant'] = dataset_Indicateur[dataset_Indicateur['Indicator Name'] == 'Enrolment in upper secondary education, both sexes (number)']['2014']\n",
    "df35['2010-2011_NombreEtudiant'] = dataset_Indicateur[dataset_Indicateur['Indicator Name'] == 'Enrolment in upper secondary education, both sexes (number)']['2014']\n",
    "df35['2011-2012_NombreEtudiant'] = dataset_Indicateur[dataset_Indicateur['Indicator Name'] == 'Enrolment in upper secondary education, both sexes (number)']['2014']\n",
    "df35['2012-2013_NombreEtudiant'] = dataset_Indicateur[dataset_Indicateur['Indicator Name'] == 'Enrolment in upper secondary education, both sexes (number)']['2014']\n",
    "df35['2013-2014_NombreEtudiant'] = dataset_Indicateur[dataset_Indicateur['Indicator Name'] == 'Enrolment in upper secondary education, both sexes (number)']['2014']\n",
    "df35['mean_InternetUsers'] = dataset_Indicateur[dataset_Indicateur['Indicator Name'] == 'Enrolment in upper secondary education, both sexes (number)']['2014']\n",
    "\n",
    "for i in range(dataset_Indicateur[dataset_Indicateur['Indicator Name'] == 'Enrolment in upper secondary education, both sexes (number)'].shape[0]): \n",
    "    df35['2010-2011_NombreEtudiant'].values[i] = (dataset_Indicateur[dataset_Indicateur['Indicator Name'] == 'Enrolment in tertiary education, all programmes, both sexes (number)']['2011'].values[i] - dataset_Indicateur[dataset_Indicateur['Indicator Name'] == 'Enrolment in tertiary education, all programmes, both sexes (number)']['2010'].values[i]) + (dataset_Indicateur[dataset_Indicateur['Indicator Name'] == 'Enrolment in upper secondary education, both sexes (number)']['2011'].values[i] - dataset_Indicateur[dataset_Indicateur['Indicator Name'] == 'Enrolment in upper secondary education, both sexes (number)']['2010'].values[i]) \n",
    "    df35['2011-2012_NombreEtudiant'].values[i] = (dataset_Indicateur[dataset_Indicateur['Indicator Name'] == 'Enrolment in tertiary education, all programmes, both sexes (number)']['2012'].values[i] - dataset_Indicateur[dataset_Indicateur['Indicator Name'] == 'Enrolment in tertiary education, all programmes, both sexes (number)']['2011'].values[i]) + (dataset_Indicateur[dataset_Indicateur['Indicator Name'] == 'Enrolment in upper secondary education, both sexes (number)']['2012'].values[i] - dataset_Indicateur[dataset_Indicateur['Indicator Name'] == 'Enrolment in upper secondary education, both sexes (number)']['2011'].values[i]) \n",
    "    df35['2012-2013_NombreEtudiant'].values[i] = (dataset_Indicateur[dataset_Indicateur['Indicator Name'] == 'Enrolment in tertiary education, all programmes, both sexes (number)']['2013'].values[i] - dataset_Indicateur[dataset_Indicateur['Indicator Name'] == 'Enrolment in tertiary education, all programmes, both sexes (number)']['2012'].values[i]) + (dataset_Indicateur[dataset_Indicateur['Indicator Name'] == 'Enrolment in upper secondary education, both sexes (number)']['2013'].values[i] - dataset_Indicateur[dataset_Indicateur['Indicator Name'] == 'Enrolment in upper secondary education, both sexes (number)']['2012'].values[i]) \n",
    "    df35['2013-2014_NombreEtudiant'].values[i] = (dataset_Indicateur[dataset_Indicateur['Indicator Name'] == 'Enrolment in tertiary education, all programmes, both sexes (number)']['2014'].values[i] - dataset_Indicateur[dataset_Indicateur['Indicator Name'] == 'Enrolment in tertiary education, all programmes, both sexes (number)']['2013'].values[i]) + (dataset_Indicateur[dataset_Indicateur['Indicator Name'] == 'Enrolment in upper secondary education, both sexes (number)']['2014'].values[i] - dataset_Indicateur[dataset_Indicateur['Indicator Name'] == 'Enrolment in upper secondary education, both sexes (number)']['2013'].values[i])     \n",
    "    df35['2010-2014_NombreEtudiant'].values[i] = (dataset_Indicateur[dataset_Indicateur['Indicator Name'] == 'Enrolment in tertiary education, all programmes, both sexes (number)']['2014'].values[i] - dataset_Indicateur[dataset_Indicateur['Indicator Name'] == 'Enrolment in tertiary education, all programmes, both sexes (number)']['2010'].values[i]) + (dataset_Indicateur[dataset_Indicateur['Indicator Name'] == 'Enrolment in upper secondary education, both sexes (number)']['2014'].values[i] - dataset_Indicateur[dataset_Indicateur['Indicator Name'] == 'Enrolment in upper secondary education, both sexes (number)']['2010'].values[i]) \n",
    "\n",
    "df35['mean_NombreEtudiant'] = df35[[str(année) for année in ['2010-2011_NombreEtudiant', '2011-2012_NombreEtudiant', '2012-2013_NombreEtudiant', '2013-2014_NombreEtudiant']]].mean(axis = 1, skipna = True)\n",
    "    \n",
    "df35[['Nom Pays', '2010-2011_NombreEtudiant', '2011-2012_NombreEtudiant', '2012-2013_NombreEtudiant', '2013-2014_NombreEtudiant',  '2010-2014_NombreEtudiant', 'mean_NombreEtudiant']].sort_values('mean_NombreEtudiant', ascending = False).head(5)"
   ]
  },
  {
   "cell_type": "markdown",
   "metadata": {},
   "source": [
    "Dans l'ensemble la tendance et à l'augmentation du nombre d'étudiant en moyenne entre 2010 et 2014. Cependant il faut relativiser\n",
    "on remarque par exemple que United States a perdu 1.73e+05 étudiants en 4 ans mais le nombre d'étudiant et beaucoup plus important\n",
    "de base, donc même si la tendance et à la baisse, il sera tout de même interessant d'investir.\n",
    "De même il faudra être attentif au pays qui connaissent une baisse comme c'est le cas pour Poland, Italy et Russia.\n",
    "\n",
    "On a aussi vu qu'il manque des informations pour différents pays comme la Philippines, Germany, Saudi Arabia on ne peut pas vraiment savoir\n",
    "quelle est la tendance, on peut donc émettre une réserve sur ces 2 pays.\n",
    "\n",
    " En conclusion les pays intéressant seront ces 22 pays: \n",
    " India, China, Turkey, Indonesia, Brazil, Mexico, United Kingdom, Egypt, Argentina, Spain, Iran, Colombia, South Africa,\n",
    " Australia, Thailand, France, Japan, Korea, Poland, Italy, United States et Russia."
   ]
  },
  {
   "cell_type": "code",
   "execution_count": null,
   "metadata": {},
   "outputs": [],
   "source": []
  },
  {
   "cell_type": "code",
   "execution_count": null,
   "metadata": {},
   "outputs": [],
   "source": []
  }
 ],
 "metadata": {
  "kernelspec": {
   "display_name": "Python 3",
   "language": "python",
   "name": "python3"
  },
  "language_info": {
   "codemirror_mode": {
    "name": "ipython",
    "version": 3
   },
   "file_extension": ".py",
   "mimetype": "text/x-python",
   "name": "python",
   "nbconvert_exporter": "python",
   "pygments_lexer": "ipython3",
   "version": "3.8.5"
  }
 },
 "nbformat": 4,
 "nbformat_minor": 4
}
